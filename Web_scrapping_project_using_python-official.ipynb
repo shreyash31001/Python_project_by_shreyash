{
 "cells": [
  {
   "cell_type": "markdown",
   "metadata": {},
   "source": [
    "# Indeed.com job portal scrapping using BeautifulSoup and regex package\n",
    "By Group: Shreyash, Siddharth, Shubham , Likhit"
   ]
  },
  {
   "cell_type": "code",
   "execution_count": 1,
   "metadata": {},
   "outputs": [],
   "source": [
    "import requests\n",
    "from bs4 import BeautifulSoup"
   ]
  },
  {
   "cell_type": "code",
   "execution_count": 2,
   "metadata": {},
   "outputs": [],
   "source": [
    "import csv\n",
    "from datetime import datetime\n",
    "import re"
   ]
  },
  {
   "cell_type": "code",
   "execution_count": 3,
   "metadata": {},
   "outputs": [],
   "source": [
    "url = \"https://in.indeed.com/jobs?q={}&l={}\"\n",
    "r = requests.get(url)\n",
    "htmlContent = r.content\n",
    "#  print(htmlContent)"
   ]
  },
  {
   "cell_type": "code",
   "execution_count": 4,
   "metadata": {},
   "outputs": [],
   "source": [
    "def get_url(position,location):\n",
    "    url = \"https://in.indeed.com/jobs?q={}&l={}\"\n",
    "    url1 = url.format(position,location)\n",
    "    return url1\n",
    "    "
   ]
  },
  {
   "cell_type": "code",
   "execution_count": 5,
   "metadata": {},
   "outputs": [],
   "source": [
    "url = get_url(\"web developer\",\"Navi Mumbai Maharashtra\")"
   ]
  },
  {
   "cell_type": "markdown",
   "metadata": {},
   "source": [
    "# Extracting raw Html"
   ]
  },
  {
   "cell_type": "code",
   "execution_count": 6,
   "metadata": {},
   "outputs": [],
   "source": [
    "response = requests.get(url)"
   ]
  },
  {
   "cell_type": "code",
   "execution_count": 7,
   "metadata": {},
   "outputs": [
    {
     "data": {
      "text/plain": [
       "<Response [200]>"
      ]
     },
     "execution_count": 7,
     "metadata": {},
     "output_type": "execute_result"
    }
   ],
   "source": [
    "response"
   ]
  },
  {
   "cell_type": "code",
   "execution_count": 8,
   "metadata": {},
   "outputs": [
    {
     "data": {
      "text/plain": [
       "''"
      ]
     },
     "execution_count": 8,
     "metadata": {},
     "output_type": "execute_result"
    }
   ],
   "source": [
    "response.reason"
   ]
  },
  {
   "cell_type": "code",
   "execution_count": 9,
   "metadata": {},
   "outputs": [],
   "source": [
    "soup = BeautifulSoup(response.text,'html.parser')"
   ]
  },
  {
   "cell_type": "code",
   "execution_count": 11,
   "metadata": {},
   "outputs": [
    {
     "data": {
      "text/plain": [
       "[<div class=\"slider_container\"><div class=\"slider_list\"><div class=\"slider_item\"><div class=\"job_seen_beacon\"><table cellpadding=\"0\" cellspacing=\"0\" class=\"jobCard_mainContent\" role=\"presentation\"><tbody><tr><td class=\"resultContent\"><div class=\"heading4 color-text-primary singleLineTitle tapItem-gutter\"><h2 class=\"jobTitle jobTitle-color-purple jobTitle-newJob\"><div class=\"new topLeft holisticNewBlue desktop\"><span class=\"label\">new</span></div><span title=\"Project Manager- Web/Software Development\">Project Manager- Web/Software Development</span></h2></div><div class=\"heading6 company_location tapItem-gutter\"><pre><span class=\"companyName\">Spiralyze</span><div class=\"companyLocation\">Mumbai, Maharashtra<span class=\"remote-bullet\">•</span><span>Remote</span></div></pre></div><div class=\"heading6 tapItem-gutter metadataContainer\"><div class=\"metadata salary-snippet-container\"><span aria-label=\"₹30,000 to ₹80,000 a month\" class=\"salary-snippet\">₹30,000 - ₹80,000 a month</span></div></div><div class=\"heading6 error-text tapItem-gutter\"></div></td></tr></tbody></table><table class=\"jobCardShelfContainer\" role=\"presentation\"><tbody><tr class=\"jobCardShelf\"><td class=\"shelfItem indeedApply\"><span class=\"iaIcon\"></span><span class=\"ialbl iaTextBlack\">Apply securely with Indeed Resume</span></td><td class=\"shelfItem urgentlyHiring\"><div class=\"urgentlyHiring\"><span class=\"urgentlyHiringIcon\"></span>Urgently hiring</div></td></tr><tr class=\"underShelfFooter\"><td><div class=\"heading6 tapItem-gutter result-footer\"><div class=\"job-snippet\"><ul style=\"list-style-type:circle;margin-top: 0px;margin-bottom: 0px;padding-left:20px;\">\n",
       " <li style=\"margin-bottom:0px;\">We code those designs into challenger <b>web</b> pages.</li>\n",
       " <li>Coordination. Running big A/B tests requires teams of 5-10 people (researchers, strategists, designers,…</li>\n",
       " </ul></div><span class=\"date\">3 days ago</span></div></td></tr></tbody></table><div aria-live=\"polite\"></div></div></div><div class=\"slider_sub_item\"></div></div></div>,\n",
       " <div class=\"slider_container\"><div class=\"slider_list\"><div class=\"slider_item\"><div class=\"job_seen_beacon\"><table cellpadding=\"0\" cellspacing=\"0\" class=\"jobCard_mainContent\" role=\"presentation\"><tbody><tr><td class=\"resultContent\"><div class=\"heading4 color-text-primary singleLineTitle tapItem-gutter\"><h2 class=\"jobTitle jobTitle-color-purple\"><span title=\"Senior Web Developer\">Senior Web Developer</span></h2></div><div class=\"heading6 company_location tapItem-gutter\"><pre><span class=\"companyName\">Tonic Worldwide</span><div class=\"companyLocation\">Mumbai, Maharashtra<span class=\"remote-bullet\">•</span><span>Remote</span></div></pre></div><div class=\"heading6 tapItem-gutter metadataContainer\"><div class=\"metadata salary-snippet-container\"><span aria-label=\"₹50,000 to ₹65,000 a month\" class=\"salary-snippet\">₹50,000 - ₹65,000 a month</span></div></div><div class=\"heading6 error-text tapItem-gutter\"></div></td></tr></tbody></table><table class=\"jobCardShelfContainer\" role=\"presentation\"><tbody><tr class=\"jobCardShelf\"><td class=\"shelfItem indeedApply\"><span class=\"iaIcon\"></span><span class=\"ialbl iaTextBlack\">Apply securely with Indeed Resume</span></td><td class=\"shelfItem responsiveEmployer\"><div><span class=\"responsiveEmployerIcon\"></span>Responsive employer</div></td></tr><tr class=\"underShelfFooter\"><td><div class=\"heading6 tapItem-gutter result-footer\"><div class=\"job-snippet\"><ul style=\"list-style-type:circle;margin-top: 0px;margin-bottom: 0px;padding-left:20px;\">\n",
       " <li style=\"margin-bottom:0px;\">Develop &amp; implement modern <b>web</b> services using service-oriented architecture, RESTful APIs, and SOAP.</li>\n",
       " <li>Test, troubleshoot, and optimize application components for…</li>\n",
       " </ul></div><span class=\"date\">30+ days ago</span></div></td></tr></tbody></table><div aria-live=\"polite\"></div></div></div><div class=\"slider_sub_item\"></div></div></div>,\n",
       " <div class=\"slider_container\"><div class=\"slider_list\"><div class=\"slider_item\"><div class=\"job_seen_beacon\"><table cellpadding=\"0\" cellspacing=\"0\" class=\"jobCard_mainContent\" role=\"presentation\"><tbody><tr><td class=\"resultContent\"><div class=\"heading4 color-text-primary singleLineTitle tapItem-gutter\"><h2 class=\"jobTitle jobTitle-color-purple jobTitle-newJob\"><div class=\"new topLeft holisticNewBlue desktop\"><span class=\"label\">new</span></div><span title=\"Web Designer &amp; Developer\">Web Designer &amp; Developer</span></h2></div><div class=\"heading6 company_location tapItem-gutter\"><pre><span class=\"companyName\">Ardent Research</span><div class=\"companyLocation\">Mumbai, Maharashtra<span class=\"remote-bullet\">•</span><span>Remote</span></div></pre></div><div class=\"heading6 tapItem-gutter metadataContainer\"><div class=\"metadata salary-snippet-container\"><span aria-label=\"₹9,676 to ₹18,866 a month\" class=\"salary-snippet\">₹9,676 - ₹18,866 a month</span></div></div><div class=\"heading6 error-text tapItem-gutter\"></div></td></tr></tbody></table><table class=\"jobCardShelfContainer\" role=\"presentation\"><tbody><tr class=\"jobCardShelf\"><td class=\"shelfItem indeedApply\"><span class=\"iaIcon\"></span><span class=\"ialbl iaTextBlack\">Apply securely with Indeed Resume</span></td></tr><tr class=\"underShelfFooter\"><td><div class=\"heading6 tapItem-gutter result-footer\"><div class=\"job-snippet\"><ul style=\"list-style-type:circle;margin-top: 0px;margin-bottom: 0px;padding-left:20px;\">\n",
       " <li>Writes/reads clean well-documented custom code and updates, as needed; updates and develops custom database driven websites to meet special needs of clients as…</li>\n",
       " </ul></div><span class=\"date\">Just posted</span><span class=\"result-link-bar-separator\">·</span><button aria-expanded=\"false\" class=\"sl resultLink more_links_button\" type=\"button\">More...</button></div><div class=\"tab-container\"><div class=\"more-links-container result-tab\" role=\"presentation\"><div class=\"more_links\"><button class=\"close-button\" title=\"Close\" type=\"button\"></button><ul><li><span class=\"mat\">View all <a href=\"/Ardent-Research-jobs\">Ardent Research jobs</a> - <a href=\"/jobs-in-Mumbai,-Maharashtra\">Mumbai jobs</a></span></li><li><span class=\"mat\">Salary Search: <a href=\"/career/web-designer/salaries/Mumbai--Maharashtra?campaignid=serp-more&amp;fromjk=c633d29cc25b9361&amp;from=serp-more\">Web Designer &amp; Developer salaries in Mumbai, Maharashtra</a></span></li></ul></div></div></div></td></tr></tbody></table><div aria-live=\"polite\"></div></div></div><div class=\"slider_sub_item\"></div></div></div>,\n",
       " <div class=\"slider_container\"><div class=\"slider_list\"><div class=\"slider_item\"><div class=\"job_seen_beacon\"><table cellpadding=\"0\" cellspacing=\"0\" class=\"jobCard_mainContent\" role=\"presentation\"><tbody><tr><td class=\"resultContent\"><div class=\"heading4 color-text-primary singleLineTitle tapItem-gutter\"><h2 class=\"jobTitle jobTitle-color-purple jobTitle-newJob\"><div class=\"new topLeft holisticNewBlue desktop\"><span class=\"label\">new</span></div><span title=\"Web Developer\">Web Developer</span></h2></div><div class=\"heading6 company_location tapItem-gutter\"><pre><span class=\"companyName\">Mobavenue Media Pvt Ltd</span><div class=\"companyLocation\">Mumbai, Maharashtra<span class=\"remote-bullet\">•</span><span>Remote</span></div></pre></div><div class=\"heading6 tapItem-gutter metadataContainer\"><div class=\"metadata salary-snippet-container\"><span aria-label=\"₹18,000 to ₹20,000 a month\" class=\"salary-snippet\">₹18,000 - ₹20,000 a month</span></div></div><div class=\"heading6 error-text tapItem-gutter\"></div></td></tr></tbody></table><table class=\"jobCardShelfContainer\" role=\"presentation\"><tbody><tr class=\"jobCardShelf\"><td class=\"shelfItem indeedApply\"><span class=\"iaIcon\"></span><span class=\"ialbl iaTextBlack\">Apply securely with Indeed Resume</span></td><td class=\"shelfItem urgentlyHiring\"><div class=\"urgentlyHiring\"><span class=\"urgentlyHiringIcon\"></span>Urgently hiring</div></td></tr><tr class=\"underShelfFooter\"><td><div class=\"heading6 tapItem-gutter result-footer\"><div class=\"job-snippet\"><ul style=\"list-style-type:circle;margin-top: 0px;margin-bottom: 0px;padding-left:20px;\">\n",
       " <li style=\"margin-bottom:0px;\">A solid understanding of how <b>web</b> applications work including security, session management and best development practices.</li>\n",
       " <li>Good Knowledge of HTML and CSS.</li>\n",
       " </ul></div><span class=\"date\">Just posted</span><span class=\"result-link-bar-separator\">·</span><button aria-expanded=\"false\" class=\"sl resultLink more_links_button\" type=\"button\">More...</button></div><div class=\"tab-container\"><div class=\"more-links-container result-tab\" role=\"presentation\"><div class=\"more_links\"><button class=\"close-button\" title=\"Close\" type=\"button\"></button><ul><li><span class=\"mat\">View all <a href=\"/Mobavenue-Media-Pvt-Ltd-jobs\">Mobavenue Media Pvt Ltd jobs</a> - <a href=\"/jobs-in-Mumbai,-Maharashtra\">Mumbai jobs</a></span></li><li><span class=\"mat\">Salary Search: <a href=\"/career/web-developer/salaries/Mumbai--Maharashtra?campaignid=serp-more&amp;fromjk=066051d4d4991a85&amp;from=serp-more\">Web Developer salaries in Mumbai, Maharashtra</a></span></li></ul></div></div></div></td></tr></tbody></table><div aria-live=\"polite\"></div></div></div><div class=\"slider_sub_item\"></div></div></div>,\n",
       " <div class=\"slider_container\"><div class=\"slider_list\"><div class=\"slider_item\"><div class=\"job_seen_beacon\"><table cellpadding=\"0\" cellspacing=\"0\" class=\"jobCard_mainContent\" role=\"presentation\"><tbody><tr><td class=\"resultContent\"><div class=\"heading4 color-text-primary singleLineTitle tapItem-gutter\"><h2 class=\"jobTitle jobTitle-color-purple jobTitle-newJob\"><div class=\"new topLeft holisticNewBlue desktop\"><span class=\"label\">new</span></div><span title=\"Web Developer - PHP\">Web Developer - PHP</span></h2></div><div class=\"heading6 company_location tapItem-gutter\"><pre><span class=\"companyName\">Bambu</span><div class=\"companyLocation\">Navi Mumbai, Maharashtra</div></pre></div><div class=\"heading6 error-text tapItem-gutter\"></div></td></tr></tbody></table><table class=\"jobCardShelfContainer\" role=\"presentation\"><tbody><tr class=\"jobCardShelf\"></tr><tr class=\"underShelfFooter\"><td><div class=\"heading6 tapItem-gutter result-footer\"><div class=\"job-snippet\"><ul style=\"list-style-type:circle;margin-top: 0px;margin-bottom: 0px;padding-left:20px;\">\n",
       " <li style=\"margin-bottom:0px;\">Solid ability to translate UI/UX design mockup to actual code that will produce visual elements of the application.</li>\n",
       " <li>Strong proficiency in PHP language.</li>\n",
       " </ul></div><span class=\"date\">Just posted</span><span class=\"result-link-bar-separator\">·</span><button aria-expanded=\"false\" class=\"sl resultLink more_links_button\" type=\"button\">More...</button></div><div class=\"tab-container\"><div class=\"more-links-container result-tab\" role=\"presentation\"><div class=\"more_links\"><button class=\"close-button\" title=\"Close\" type=\"button\"></button><ul><li><span class=\"mat\">View all <a href=\"/Bambu-jobs\">Bambu jobs</a> - <a href=\"/jobs-in-Navi-Mumbai,-Maharashtra\">Navi Mumbai jobs</a></span></li><li><span class=\"mat\">Salary Search: <a href=\"/career/web-developer/salaries/Navi-Mumbai--Maharashtra?campaignid=serp-more&amp;fromjk=14dc005ce1db8996&amp;from=serp-more\">Web Developer - PHP salaries in Navi Mumbai, Maharashtra</a></span></li></ul></div></div></div></td></tr></tbody></table><div aria-live=\"polite\"></div></div></div><div class=\"slider_sub_item\"></div></div></div>,\n",
       " <div class=\"slider_container\"><div class=\"slider_list\"><div class=\"slider_item\"><div class=\"job_seen_beacon\"><table cellpadding=\"0\" cellspacing=\"0\" class=\"jobCard_mainContent\" role=\"presentation\"><tbody><tr><td class=\"resultContent\"><div class=\"heading4 color-text-primary singleLineTitle tapItem-gutter\"><h2 class=\"jobTitle jobTitle-color-purple\"><span title=\"Front-End Web Developer\">Front-End Web Developer</span></h2></div><div class=\"heading6 company_location tapItem-gutter\"><pre><span class=\"companyName\">TIC</span><div class=\"companyLocation\">Navi Mumbai, Maharashtra</div></pre></div><div class=\"heading6 error-text tapItem-gutter\"></div></td></tr></tbody></table><table class=\"jobCardShelfContainer\" role=\"presentation\"><tbody><tr class=\"jobCardShelf\"></tr><tr class=\"underShelfFooter\"><td><div class=\"heading6 tapItem-gutter result-footer\"><div class=\"job-snippet\"><ul style=\"list-style-type:circle;margin-top: 0px;margin-bottom: 0px;padding-left:20px;\">\n",
       " <li style=\"margin-bottom:0px;\">Proficient understanding of <b>web</b> markup, including HTML5, CSS3.</li>\n",
       " <li>Optimize application for maximum speed and scalability.</li>\n",
       " </ul></div><span class=\"date\">30+ days ago</span><span class=\"result-link-bar-separator\">·</span><button aria-expanded=\"false\" class=\"sl resultLink more_links_button\" type=\"button\">More...</button></div><div class=\"tab-container\"><div class=\"more-links-container result-tab\" role=\"presentation\"><div class=\"more_links\"><button class=\"close-button\" title=\"Close\" type=\"button\"></button><ul><li><span class=\"mat\">View all <a href=\"/Tic-jobs\">TIC jobs</a> - <a href=\"/jobs-in-Navi-Mumbai,-Maharashtra\">Navi Mumbai jobs</a></span></li><li><span class=\"mat\">Salary Search: <a href=\"/career/front-end-developer/salaries/Navi-Mumbai--Maharashtra?campaignid=serp-more&amp;fromjk=62b03697ec1241ca&amp;from=serp-more\">Front-End Web Developer salaries in Navi Mumbai, Maharashtra</a></span></li></ul></div></div></div></td></tr></tbody></table><div aria-live=\"polite\"></div></div></div><div class=\"slider_sub_item\"></div></div></div>,\n",
       " <div class=\"slider_container\"><div class=\"slider_list\"><div class=\"slider_item\"><div class=\"job_seen_beacon\"><table cellpadding=\"0\" cellspacing=\"0\" class=\"jobCard_mainContent\" role=\"presentation\"><tbody><tr><td class=\"resultContent\"><div class=\"heading4 color-text-primary singleLineTitle tapItem-gutter\"><h2 class=\"jobTitle jobTitle-color-purple\"><span title=\"Web Developer\">Web Developer</span></h2></div><div class=\"heading6 company_location tapItem-gutter\"><pre><span class=\"companyName\">PTS Systems &amp; Solutions Pvt Ltd</span><div class=\"companyLocation\">Navi Mumbai, Maharashtra</div></pre></div><div class=\"heading6 tapItem-gutter metadataContainer\"><div class=\"metadata salary-snippet-container\"><span aria-label=\"₹15,000 to ₹20,000 a month\" class=\"salary-snippet\">₹15,000 - ₹20,000 a month</span></div></div><div class=\"heading6 error-text tapItem-gutter\"></div></td></tr></tbody></table><table class=\"jobCardShelfContainer\" role=\"presentation\"><tbody><tr class=\"jobCardShelf\"><td class=\"shelfItem indeedApply\"><span class=\"iaIcon\"></span><span class=\"ialbl iaTextBlack\">Apply securely with Indeed Resume</span></td><td class=\"shelfItem responsiveEmployer\"><div><span class=\"responsiveEmployerIcon\"></span>Responsive employer</div></td><td class=\"shelfItem urgentlyHiring\"><div class=\"urgentlyHiring\"><span class=\"urgentlyHiringIcon\"></span>Urgently hiring</div></td></tr><tr class=\"underShelfFooter\"><td><div class=\"heading6 tapItem-gutter result-footer\"><div class=\"job-snippet\"><ul style=\"list-style-type:circle;margin-top: 0px;margin-bottom: 0px;padding-left:20px;\">\n",
       " <li style=\"margin-bottom:0px;\">Writing well designed, testable, efficient code by using best software development practices.</li>\n",
       " <li>Integrating data from various back-end services and databases.</li>\n",
       " </ul></div><span class=\"date\">30+ days ago</span><span class=\"result-link-bar-separator\">·</span><button aria-expanded=\"false\" class=\"sl resultLink more_links_button\" type=\"button\">More...</button></div><div class=\"tab-container\"><div class=\"more-links-container result-tab\" role=\"presentation\"><div class=\"more_links\"><button class=\"close-button\" title=\"Close\" type=\"button\"></button><ul><li><span class=\"mat\">View all <a href=\"/Pts-Systems-&amp;-Solutions-Pvt-Ltd-jobs\">PTS Systems &amp; Solutions Pvt Ltd jobs</a> - <a href=\"/jobs-in-Navi-Mumbai,-Maharashtra\">Navi Mumbai jobs</a></span></li><li><span class=\"mat\">Salary Search: <a href=\"/career/web-developer/salaries/Navi-Mumbai--Maharashtra?campaignid=serp-more&amp;fromjk=e8853e1b01b9a34a&amp;from=serp-more\">Web Developer salaries in Navi Mumbai, Maharashtra</a></span></li></ul></div></div></div></td></tr></tbody></table><div aria-live=\"polite\"></div></div></div><div class=\"slider_sub_item\"></div></div></div>,\n",
       " <div class=\"slider_container\"><div class=\"slider_list\"><div class=\"slider_item\"><div class=\"job_seen_beacon\"><table cellpadding=\"0\" cellspacing=\"0\" class=\"jobCard_mainContent\" role=\"presentation\"><tbody><tr><td class=\"resultContent\"><div class=\"heading4 color-text-primary singleLineTitle tapItem-gutter\"><h2 class=\"jobTitle jobTitle-color-purple\"><span title=\"HTML Developer\">HTML Developer</span></h2></div><div class=\"heading6 company_location tapItem-gutter\"><pre><span class=\"companyName\">G-ORDINATEUR PVT LTD</span><div class=\"companyLocation\">Navi Mumbai, Maharashtra<span class=\"remote-bullet\">•</span><span>Temporarily Remote</span></div></pre></div><div class=\"heading6 tapItem-gutter metadataContainer\"><div class=\"metadata salary-snippet-container\"><span aria-label=\"₹1,20,000 to ₹2,40,000 a year\" class=\"salary-snippet\">₹1,20,000 - ₹2,40,000 a year</span></div></div><div class=\"heading6 error-text tapItem-gutter\"></div></td></tr></tbody></table><table class=\"jobCardShelfContainer\" role=\"presentation\"><tbody><tr class=\"jobCardShelf\"><td class=\"shelfItem indeedApply\"><span class=\"iaIcon\"></span><span class=\"ialbl iaTextBlack\">Apply securely with Indeed Resume</span></td></tr><tr class=\"underShelfFooter\"><td><div class=\"heading6 tapItem-gutter result-footer\"><div class=\"job-snippet\"><ul style=\"list-style-type:circle;margin-top: 0px;margin-bottom: 0px;padding-left:20px;\">\n",
       " <li style=\"margin-bottom:0px;\">Experience building large consumer <b>web</b> applications.</li>\n",
       " <li style=\"margin-bottom:0px;\">Code new features and enhancements across several <b>web</b> apps.</li>\n",
       " <li>Shift Timings: 10.00 am- 07.00 pm.</li>\n",
       " </ul></div><span class=\"date\">27 days ago</span><span class=\"result-link-bar-separator\">·</span><button aria-expanded=\"false\" class=\"sl resultLink more_links_button\" type=\"button\">More...</button></div><div class=\"tab-container\"><div class=\"more-links-container result-tab\" role=\"presentation\"><div class=\"more_links\"><button class=\"close-button\" title=\"Close\" type=\"button\"></button><ul><li><span class=\"mat\">View all <a href=\"/jobs?q=G-ordinateur+Pvt+Ltd\">G-ORDINATEUR PVT LTD jobs</a> - <a href=\"/jobs-in-Navi-Mumbai,-Maharashtra\">Navi Mumbai jobs</a></span></li><li><span class=\"mat\">Salary Search: <a href=\"/career/web-developer/salaries/Navi-Mumbai--Maharashtra?campaignid=serp-more&amp;fromjk=88dffdcb82d42df2&amp;from=serp-more\">HTML Developer salaries in Navi Mumbai, Maharashtra</a></span></li></ul></div></div></div></td></tr></tbody></table><div aria-live=\"polite\"></div></div></div><div class=\"slider_sub_item\"></div></div></div>,\n",
       " <div class=\"slider_container\"><div class=\"slider_list\"><div class=\"slider_item\"><div class=\"job_seen_beacon\"><table cellpadding=\"0\" cellspacing=\"0\" class=\"jobCard_mainContent\" role=\"presentation\"><tbody><tr><td class=\"resultContent\"><div class=\"heading4 color-text-primary singleLineTitle tapItem-gutter\"><h2 class=\"jobTitle jobTitle-color-purple\"><span title=\"Web Developer\">Web Developer</span></h2></div><div class=\"heading6 company_location tapItem-gutter\"><pre><span class=\"companyName\">GIT Technologies</span><div class=\"companyLocation\">Vashi, Navi Mumbai, Maharashtra</div></pre></div><div class=\"heading6 error-text tapItem-gutter\"></div></td></tr></tbody></table><table class=\"jobCardShelfContainer\" role=\"presentation\"><tbody><tr class=\"jobCardShelf\"></tr><tr class=\"underShelfFooter\"><td><div class=\"heading6 tapItem-gutter result-footer\"><div class=\"job-snippet\"><ul style=\"list-style-type:circle;margin-top: 0px;margin-bottom: 0px;padding-left:20px;\">\n",
       " <li style=\"margin-bottom:0px;\">Skills At least 1 - 2 years of experience using HTML, CSS, and JavaScript,.</li>\n",
       " <li>Proficiency in at least one server-side technology (Java, PHP, NodeJS etc.).</li>\n",
       " </ul></div><span class=\"date\">19 days ago</span><span class=\"result-link-bar-separator\">·</span><button aria-expanded=\"false\" class=\"sl resultLink more_links_button\" type=\"button\">More...</button></div><div class=\"tab-container\"><div class=\"more-links-container result-tab\" role=\"presentation\"><div class=\"more_links\"><button class=\"close-button\" title=\"Close\" type=\"button\"></button><ul><li><span class=\"mat\">View all <a href=\"/Git-Technologies-jobs\">GIT Technologies jobs</a> - <a href=\"/jobs-in-Vashi,-Navi-Mumbai,-Maharashtra\">Vashi, Navi Mumbai, Maharashtra jobs</a></span></li><li><span class=\"mat\">Salary Search: <a href=\"/career/web-developer/salaries/Vashi--Navi-Mumbai--Maharashtra?campaignid=serp-more&amp;fromjk=8699d0a73e5b59e9&amp;from=serp-more\">Web Developer salaries in Vashi, Navi Mumbai, Maharashtra</a></span></li></ul></div></div></div></td></tr></tbody></table><div aria-live=\"polite\"></div></div></div><div class=\"slider_sub_item\"></div></div></div>,\n",
       " <div class=\"slider_container\"><div class=\"slider_list\"><div class=\"slider_item\"><div class=\"job_seen_beacon\"><table cellpadding=\"0\" cellspacing=\"0\" class=\"jobCard_mainContent\" role=\"presentation\"><tbody><tr><td class=\"resultContent\"><div class=\"heading4 color-text-primary singleLineTitle tapItem-gutter\"><h2 class=\"jobTitle jobTitle-color-purple jobTitle-newJob\"><div class=\"new topLeft holisticNewBlue desktop\"><span class=\"label\">new</span></div><span title=\"Wordpress Developer\">Wordpress Developer</span></h2></div><div class=\"heading6 company_location tapItem-gutter\"><pre><span class=\"companyName\">Brain Candy</span><div class=\"companyLocation\">Navi Mumbai, Maharashtra</div></pre></div><div class=\"heading6 error-text tapItem-gutter\"></div></td></tr></tbody></table><table class=\"jobCardShelfContainer\" role=\"presentation\"><tbody><tr class=\"jobCardShelf\"></tr><tr class=\"underShelfFooter\"><td><div class=\"heading6 tapItem-gutter result-footer\"><div class=\"job-snippet\"><ul style=\"list-style-type:circle;margin-top: 0px;margin-bottom: 0px;padding-left:20px;\">\n",
       " <li style=\"margin-bottom:0px;\">Intimate understanding of the WordPress core, Plugins Integration.</li>\n",
       " <li>Knowledge of core PHP, JavaScript, HTML, CSS.</li>\n",
       " </ul></div><span class=\"date\">4 days ago</span><span class=\"result-link-bar-separator\">·</span><button aria-expanded=\"false\" class=\"sl resultLink more_links_button\" type=\"button\">More...</button></div><div class=\"tab-container\"><div class=\"more-links-container result-tab\" role=\"presentation\"><div class=\"more_links\"><button class=\"close-button\" title=\"Close\" type=\"button\"></button><ul><li><span class=\"mat\">View all <a href=\"/Brain-Candy-jobs\">Brain Candy jobs</a> - <a href=\"/jobs-in-Navi-Mumbai,-Maharashtra\">Navi Mumbai jobs</a></span></li><li><span class=\"mat\">Salary Search: <a href=\"/career/wordpress-developer/salaries/Navi-Mumbai--Maharashtra?campaignid=serp-more&amp;fromjk=4718842d7f852117&amp;from=serp-more\">Wordpress Developer salaries in Navi Mumbai, Maharashtra</a></span></li></ul></div></div></div></td></tr></tbody></table><div aria-live=\"polite\"></div></div></div><div class=\"slider_sub_item\"></div></div></div>,\n",
       " <div class=\"slider_container\"><div class=\"slider_list\"><div class=\"slider_item\"><div class=\"job_seen_beacon\"><table cellpadding=\"0\" cellspacing=\"0\" class=\"jobCard_mainContent\" role=\"presentation\"><tbody><tr><td class=\"resultContent\"><div class=\"heading4 color-text-primary singleLineTitle tapItem-gutter\"><h2 class=\"jobTitle jobTitle-color-purple jobTitle-newJob\"><div class=\"new topLeft holisticNewBlue desktop\"><span class=\"label\">new</span></div><span title=\"PHP Developer\">PHP Developer</span></h2></div><div class=\"heading6 company_location tapItem-gutter\"><pre><span class=\"companyName\">Neolite Infotech</span><div class=\"companyLocation\">Navi Mumbai, Maharashtra</div></pre></div><div class=\"heading6 error-text tapItem-gutter\"></div></td></tr></tbody></table><table class=\"jobCardShelfContainer\" role=\"presentation\"><tbody><tr class=\"jobCardShelf\"></tr><tr class=\"underShelfFooter\"><td><div class=\"heading6 tapItem-gutter result-footer\"><div class=\"job-snippet\"><ul style=\"list-style-type:circle;margin-top: 0px;margin-bottom: 0px;padding-left:20px;\">\n",
       " <li style=\"margin-bottom:0px;\">Strong coding skill in PHP-MySQL, MONGO DB,.</li>\n",
       " <li style=\"margin-bottom:0px;\">Experience on PHP–MVC framework, preferably Laravel.</li>\n",
       " <li>Good knowledge of Json, XML, SOAP , HTML,CSS ,JS , JQUERY ,…</li>\n",
       " </ul></div><span class=\"date\">2 days ago</span><span class=\"result-link-bar-separator\">·</span><button aria-expanded=\"false\" class=\"sl resultLink more_links_button\" type=\"button\">More...</button></div><div class=\"tab-container\"><div class=\"more-links-container result-tab\" role=\"presentation\"><div class=\"more_links\"><button class=\"close-button\" title=\"Close\" type=\"button\"></button><ul><li><span class=\"mat\">View all <a href=\"/Neolite-Infotech-jobs\">Neolite Infotech jobs</a> - <a href=\"/jobs-in-Navi-Mumbai,-Maharashtra\">Navi Mumbai jobs</a></span></li><li><span class=\"mat\">Salary Search: <a href=\"/career/php-developer/salaries/Navi-Mumbai--Maharashtra?campaignid=serp-more&amp;fromjk=7e1dcac01b459bdb&amp;from=serp-more\">PHP Developer salaries in Navi Mumbai, Maharashtra</a></span></li></ul></div></div></div></td></tr></tbody></table><div aria-live=\"polite\"></div></div></div><div class=\"slider_sub_item\"></div></div></div>,\n",
       " <div class=\"slider_container\"><div class=\"slider_list\"><div class=\"slider_item\"><div class=\"job_seen_beacon\"><table cellpadding=\"0\" cellspacing=\"0\" class=\"jobCard_mainContent\" role=\"presentation\"><tbody><tr><td class=\"resultContent\"><div class=\"heading4 color-text-primary singleLineTitle tapItem-gutter\"><h2 class=\"jobTitle jobTitle-color-purple jobTitle-newJob\"><div class=\"new topLeft holisticNewBlue desktop\"><span class=\"label\">new</span></div><span title=\"Web Developer PHP - Immediate Joinee\">Web Developer PHP - Immediate Joinee</span></h2></div><div class=\"heading6 company_location tapItem-gutter\"><pre><span class=\"companyName\">Tradesocio India Private Limited</span><div class=\"companyLocation\">Navi Mumbai, Maharashtra<span class=\"remote-bullet\">•</span><span>Temporarily Remote</span></div></pre></div><div class=\"heading6 error-text tapItem-gutter\"></div></td></tr></tbody></table><table class=\"jobCardShelfContainer\" role=\"presentation\"><tbody><tr class=\"jobCardShelf\"><td class=\"shelfItem indeedApply\"><span class=\"iaIcon\"></span><span class=\"ialbl iaTextBlack\">Apply securely with Indeed Resume</span></td></tr><tr class=\"underShelfFooter\"><td><div class=\"heading6 tapItem-gutter result-footer\"><div class=\"job-snippet\"><ul style=\"list-style-type:circle;margin-top: 0px;margin-bottom: 0px;padding-left:20px;\">\n",
       " <li style=\"margin-bottom:0px;\">Solid ability to translate UI/UX design mockup to actual code that will produce visual elements of the application.</li>\n",
       " <li>Strong proficiency in PHP language.</li>\n",
       " </ul></div><span class=\"date\">4 days ago</span><span class=\"result-link-bar-separator\">·</span><button aria-expanded=\"false\" class=\"sl resultLink more_links_button\" type=\"button\">More...</button></div><div class=\"tab-container\"><div class=\"more-links-container result-tab\" role=\"presentation\"><div class=\"more_links\"><button class=\"close-button\" title=\"Close\" type=\"button\"></button><ul><li><span class=\"mat\">View all <a href=\"/Tradesocio-India-Private-Limited-jobs\">Tradesocio India Private Limited jobs</a> - <a href=\"/jobs-in-Navi-Mumbai,-Maharashtra\">Navi Mumbai jobs</a></span></li><li><span class=\"mat\">Salary Search: <a href=\"/career/web-developer/salaries/Navi-Mumbai--Maharashtra?campaignid=serp-more&amp;fromjk=72815a0f162405b4&amp;from=serp-more\">Web Developer PHP - Immediate Joinee salaries in Navi Mumbai, Maharashtra</a></span></li></ul></div></div></div></td></tr></tbody></table><div aria-live=\"polite\"></div></div></div><div class=\"slider_sub_item\"></div></div></div>,\n",
       " <div class=\"slider_container\"><div class=\"slider_list\"><div class=\"slider_item\"><div class=\"job_seen_beacon\"><table cellpadding=\"0\" cellspacing=\"0\" class=\"jobCard_mainContent\" role=\"presentation\"><tbody><tr><td class=\"resultContent\"><div class=\"heading4 color-text-primary singleLineTitle tapItem-gutter\"><h2 class=\"jobTitle jobTitle-color-purple\"><span title=\"Web Developer\">Web Developer</span></h2></div><div class=\"heading6 company_location tapItem-gutter\"><pre><span class=\"companyName\">GAMSYS</span><div class=\"companyLocation\">CBD Belapur, Navi Mumbai, Maharashtra</div></pre></div><div class=\"heading6 error-text tapItem-gutter\"></div></td></tr></tbody></table><table class=\"jobCardShelfContainer\" role=\"presentation\"><tbody><tr class=\"jobCardShelf\"></tr><tr class=\"underShelfFooter\"><td><div class=\"heading6 tapItem-gutter result-footer\"><div class=\"job-snippet\"><ul style=\"list-style-type:circle;margin-top: 0px;margin-bottom: 0px;padding-left:20px;\">\n",
       " <li style=\"margin-bottom:0px;\">Developing mobile Friendly and responsive websites.</li>\n",
       " <li style=\"margin-bottom:0px;\">Assist in building wireframes/prototypes.</li>\n",
       " <li>Keeping up-to-date with recent technological and software…</li>\n",
       " </ul></div><span class=\"date\">30+ days ago</span><span class=\"result-link-bar-separator\">·</span><button aria-expanded=\"false\" class=\"sl resultLink more_links_button\" type=\"button\">More...</button></div><div class=\"tab-container\"><div class=\"more-links-container result-tab\" role=\"presentation\"><div class=\"more_links\"><button class=\"close-button\" title=\"Close\" type=\"button\"></button><ul><li><span class=\"mat\">View all <a href=\"/Gamsys-jobs\">GAMSYS jobs</a> - <a href=\"/jobs-in-CBD-Belapur,-Navi-Mumbai,-Maharashtra\">CBD Belapur, Navi Mumbai, Maharashtra jobs</a></span></li><li><span class=\"mat\">Salary Search: <a href=\"/career/web-developer/salaries/CBD-Belapur--Navi-Mumbai--Maharashtra?campaignid=serp-more&amp;fromjk=383f8251a13e9312&amp;from=serp-more\">Web Developer salaries in CBD Belapur, Navi Mumbai, Maharashtra</a></span></li></ul></div></div></div></td></tr></tbody></table><div aria-live=\"polite\"></div></div></div><div class=\"slider_sub_item\"></div></div></div>,\n",
       " <div class=\"slider_container\"><div class=\"slider_list\"><div class=\"slider_item\"><div class=\"job_seen_beacon\"><table cellpadding=\"0\" cellspacing=\"0\" class=\"jobCard_mainContent\" role=\"presentation\"><tbody><tr><td class=\"resultContent\"><div class=\"heading4 color-text-primary singleLineTitle tapItem-gutter\"><h2 class=\"jobTitle jobTitle-color-purple\"><span title=\"Web Developer Intern\">Web Developer Intern</span></h2></div><div class=\"heading6 company_location tapItem-gutter\"><pre><span class=\"companyName\">ARCITECH</span><div class=\"companyLocation\">Mumbai, Maharashtra</div></pre></div><div class=\"heading6 tapItem-gutter metadataContainer\"><div class=\"metadata salary-snippet-container\"><span aria-label=\"₹3,000 a month\" class=\"salary-snippet\">₹3,000 a month</span></div></div><div class=\"heading6 error-text tapItem-gutter\"></div></td></tr></tbody></table><table class=\"jobCardShelfContainer\" role=\"presentation\"><tbody><tr class=\"jobCardShelf\"><td class=\"shelfItem indeedApply\"><span class=\"iaIcon\"></span><span class=\"ialbl iaTextBlack\">Apply securely with Indeed Resume</span></td></tr><tr class=\"underShelfFooter\"><td><div class=\"heading6 tapItem-gutter result-footer\"><div class=\"job-snippet\"><ul style=\"list-style-type:circle;margin-top: 0px;margin-bottom: 0px;padding-left:20px;\">\n",
       " <li style=\"margin-bottom:0px;\">Assist in troubleshooting issues on web-based systems.</li>\n",
       " <li>Provide technical support related to web-based systems to internal teams.</li>\n",
       " </ul></div><span class=\"date\">18 days ago</span><span class=\"result-link-bar-separator\">·</span><button aria-expanded=\"false\" class=\"sl resultLink more_links_button\" type=\"button\">More...</button></div><div class=\"tab-container\"><div class=\"more-links-container result-tab\" role=\"presentation\"><div class=\"more_links\"><button class=\"close-button\" title=\"Close\" type=\"button\"></button><ul><li><span class=\"mat\">View all <a href=\"/Arcitech-jobs\">ARCITECH jobs</a> - <a href=\"/jobs-in-Mumbai,-Maharashtra\">Mumbai jobs</a></span></li><li><span class=\"mat\">Salary Search: <a href=\"/career/web-developer/salaries/Mumbai--Maharashtra?campaignid=serp-more&amp;fromjk=6d493b06569fe44d&amp;from=serp-more\">Web Developer Intern salaries in Mumbai, Maharashtra</a></span></li></ul></div></div></div></td></tr></tbody></table><div aria-live=\"polite\"></div></div></div><div class=\"slider_sub_item\"></div></div></div>,\n",
       " <div class=\"slider_container\"><div class=\"slider_list\"><div class=\"slider_item\"><div class=\"job_seen_beacon\"><table cellpadding=\"0\" cellspacing=\"0\" class=\"jobCard_mainContent\" role=\"presentation\"><tbody><tr><td class=\"resultContent\"><div class=\"heading4 color-text-primary singleLineTitle tapItem-gutter\"><h2 class=\"jobTitle jobTitle-color-purple jobTitle-newJob\"><div class=\"new topLeft holisticNewBlue desktop\"><span class=\"label\">new</span></div><span title=\"Web Designer &amp; Developer\">Web Designer &amp; Developer</span></h2></div><div class=\"heading6 company_location tapItem-gutter\"><pre><span class=\"companyName\">Vigo Infotech Pvt. Ltd.</span><div class=\"companyLocation\">Mumbai, Maharashtra</div></pre></div><div class=\"heading6 tapItem-gutter metadataContainer\"><div class=\"metadata salary-snippet-container\"><span aria-label=\"₹5,000 to ₹12,000 a month\" class=\"salary-snippet\">₹5,000 - ₹12,000 a month</span></div></div><div class=\"heading6 error-text tapItem-gutter\"></div></td></tr></tbody></table><table class=\"jobCardShelfContainer\" role=\"presentation\"><tbody><tr class=\"jobCardShelf\"><td class=\"shelfItem indeedApply\"><span class=\"iaIcon\"></span><span class=\"ialbl iaTextBlack\">Apply securely with Indeed Resume</span></td></tr><tr class=\"underShelfFooter\"><td><div class=\"heading6 tapItem-gutter result-footer\"><div class=\"job-snippet\"><ul style=\"list-style-type:circle;margin-top: 0px;margin-bottom: 0px;padding-left:20px;\">\n",
       " <li style=\"margin-bottom:0px;\">Responsive <b>web</b> design: 1 year (Preferred).</li>\n",
       " <li style=\"margin-bottom:0px;\">Good experience in HTML 5, CSS 3, Javascript, Jquery.</li>\n",
       " <li>Proficient in Photoshop, Corel Draw, and other graphics tools …</li>\n",
       " </ul></div><span class=\"date\">Just posted</span><span class=\"result-link-bar-separator\">·</span><button aria-expanded=\"false\" class=\"sl resultLink more_links_button\" type=\"button\">More...</button></div><div class=\"tab-container\"><div class=\"more-links-container result-tab\" role=\"presentation\"><div class=\"more_links\"><button class=\"close-button\" title=\"Close\" type=\"button\"></button><ul><li><span class=\"mat\">View all <a href=\"/Vigo-Infotech-Pvt.-Ltd.-jobs\">Vigo Infotech Pvt. Ltd. jobs</a> - <a href=\"/jobs-in-Mumbai,-Maharashtra\">Mumbai jobs</a></span></li><li><span class=\"mat\">Salary Search: <a href=\"/career/web-designer/salaries/Mumbai--Maharashtra?campaignid=serp-more&amp;fromjk=4b48674e6409cf55&amp;from=serp-more\">Web Designer &amp; Developer salaries in Mumbai, Maharashtra</a></span></li></ul></div></div></div></td></tr></tbody></table><div aria-live=\"polite\"></div></div></div><div class=\"slider_sub_item\"></div></div></div>]"
      ]
     },
     "execution_count": 11,
     "metadata": {},
     "output_type": "execute_result"
    }
   ],
   "source": [
    "cards = soup.find_all('div',re.compile(r'slider_container'))\n",
    "cards"
   ]
  },
  {
   "cell_type": "code",
   "execution_count": 12,
   "metadata": {},
   "outputs": [
    {
     "data": {
      "text/plain": [
       "15"
      ]
     },
     "execution_count": 12,
     "metadata": {},
     "output_type": "execute_result"
    }
   ],
   "source": [
    "len(cards)"
   ]
  },
  {
   "cell_type": "markdown",
   "metadata": {},
   "source": [
    "# prototype the model with a single record"
   ]
  },
  {
   "cell_type": "code",
   "execution_count": 13,
   "metadata": {},
   "outputs": [],
   "source": [
    "card = cards[0]"
   ]
  },
  {
   "cell_type": "code",
   "execution_count": 14,
   "metadata": {},
   "outputs": [
    {
     "data": {
      "text/plain": [
       "<span class=\"label\">new</span>"
      ]
     },
     "execution_count": 14,
     "metadata": {},
     "output_type": "execute_result"
    }
   ],
   "source": [
    "card.div.span\n"
   ]
  },
  {
   "cell_type": "code",
   "execution_count": 15,
   "metadata": {},
   "outputs": [
    {
     "data": {
      "text/plain": [
       "'newProject Manager- Web/Software Development'"
      ]
     },
     "execution_count": 15,
     "metadata": {},
     "output_type": "execute_result"
    }
   ],
   "source": [
    "title = card.find('div', class_= re.compile(r'heading+')).text\n",
    "title"
   ]
  },
  {
   "cell_type": "code",
   "execution_count": 17,
   "metadata": {},
   "outputs": [],
   "source": [
    "card['title'] = title"
   ]
  },
  {
   "cell_type": "code",
   "execution_count": 18,
   "metadata": {},
   "outputs": [
    {
     "data": {
      "text/plain": [
       "'newProject Manager- Web/Software Development'"
      ]
     },
     "execution_count": 18,
     "metadata": {},
     "output_type": "execute_result"
    }
   ],
   "source": [
    "card['title']"
   ]
  },
  {
   "cell_type": "code",
   "execution_count": 26,
   "metadata": {},
   "outputs": [
    {
     "data": {
      "text/plain": [
       "'Full Stack Developer'"
      ]
     },
     "execution_count": 26,
     "metadata": {},
     "output_type": "execute_result"
    }
   ],
   "source": [
    "job_title = card['title']\n",
    "job_title"
   ]
  },
  {
   "cell_type": "code",
   "execution_count": 19,
   "metadata": {},
   "outputs": [
    {
     "data": {
      "text/plain": [
       "'Spiralyze'"
      ]
     },
     "execution_count": 19,
     "metadata": {},
     "output_type": "execute_result"
    }
   ],
   "source": [
    "company = card.find('span',re.compile(r'companyName')).text\n",
    "company"
   ]
  },
  {
   "cell_type": "code",
   "execution_count": 20,
   "metadata": {},
   "outputs": [
    {
     "data": {
      "text/plain": [
       "'Mumbai, Maharashtra•Remote'"
      ]
     },
     "execution_count": 20,
     "metadata": {},
     "output_type": "execute_result"
    }
   ],
   "source": [
    "job_location= card.find('div',class_= re.compile(r'companyLocation')).text\n",
    "job_location"
   ]
  },
  {
   "cell_type": "code",
   "execution_count": 21,
   "metadata": {},
   "outputs": [
    {
     "data": {
      "text/plain": [
       "['',\n",
       " 'We code those designs into challenger web pages.',\n",
       " 'Coordination. Running big A/B tests requires teams of 5-10 people (researchers, strategists, designers,…',\n",
       " '']"
      ]
     },
     "execution_count": 21,
     "metadata": {},
     "output_type": "execute_result"
    }
   ],
   "source": [
    "job_summary = card.find('div',re.compile(r'job-snippet')).text\n",
    "job_summary.strip()\n",
    "job_sum = re.split('\\n',job_summary)\n",
    "job_sum"
   ]
  },
  {
   "cell_type": "code",
   "execution_count": 22,
   "metadata": {},
   "outputs": [
    {
     "data": {
      "text/plain": [
       "'3 days ago'"
      ]
     },
     "execution_count": 22,
     "metadata": {},
     "output_type": "execute_result"
    }
   ],
   "source": [
    "date_job = card.find('span','date').text\n",
    "date_job"
   ]
  },
  {
   "cell_type": "code",
   "execution_count": 23,
   "metadata": {},
   "outputs": [
    {
     "data": {
      "text/plain": [
       "'2021-10-18'"
      ]
     },
     "execution_count": 23,
     "metadata": {},
     "output_type": "execute_result"
    }
   ],
   "source": [
    "today = datetime.today().strftime('%Y-%m-%d')\n",
    "today"
   ]
  },
  {
   "cell_type": "code",
   "execution_count": 24,
   "metadata": {},
   "outputs": [
    {
     "data": {
      "text/plain": [
       "'₹30,000 - ₹80,000 a month'"
      ]
     },
     "execution_count": 24,
     "metadata": {},
     "output_type": "execute_result"
    }
   ],
   "source": [
    "job_salary = card.find('span',re.compile(r'salary-snippet')).text\n",
    "job_salary"
   ]
  },
  {
   "cell_type": "code",
   "execution_count": 25,
   "metadata": {},
   "outputs": [],
   "source": [
    "\n",
    "try:\n",
    "    job_salary = card.find('span',re.compile(r'salary-snippet')).text\n",
    "except AttributeError:\n",
    "    job_salary = ' '"
   ]
  },
  {
   "cell_type": "markdown",
   "metadata": {},
   "source": [
    "# Generalize the model with the function"
   ]
  },
  {
   "cell_type": "code",
   "execution_count": 26,
   "metadata": {},
   "outputs": [],
   "source": [
    "def get_record(card):\n",
    "    card.div.span\n",
    "    title = card.find('div', class_= re.compile(r'heading+')).text\n",
    "    card['title'] = title\n",
    "    job_title = card['title']\n",
    "    company = card.find('span',re.compile(r'companyName')).text\n",
    "    job_location= card.find('div',class_= re.compile(r'companyLocation')).text\n",
    "    job_summary = card.find('div',re.compile(r'job-snippet')).text\n",
    "    job_sum = re.split('\\n',job_summary)\n",
    "    date_job = card.find('span','date').text\n",
    "    today = datetime.today().strftime('%Y-%m-%d')\n",
    "    try:\n",
    "        job_salary = card.find('span',re.compile(r'salary-snippet')).text\n",
    "    except AttributeError:\n",
    "        job_salary = ' '\n",
    "    record = (job_title,company,job_location,job_sum,date_job,job_salary,today)\n",
    "    return record "
   ]
  },
  {
   "cell_type": "code",
   "execution_count": 27,
   "metadata": {},
   "outputs": [],
   "source": [
    "records = []\n",
    "\n",
    "for card in cards:\n",
    "    record = get_record(card)\n",
    "    records.append(record)"
   ]
  },
  {
   "cell_type": "code",
   "execution_count": 29,
   "metadata": {},
   "outputs": [
    {
     "data": {
      "text/plain": [
       "('newProject Manager- Web/Software Development',\n",
       " 'Spiralyze',\n",
       " 'Mumbai, Maharashtra•Remote',\n",
       " ['',\n",
       "  'We code those designs into challenger web pages.',\n",
       "  'Coordination. Running big A/B tests requires teams of 5-10 people (researchers, strategists, designers,…',\n",
       "  ''],\n",
       " '3 days ago',\n",
       " '₹30,000 - ₹80,000 a month',\n",
       " '2021-10-18')"
      ]
     },
     "execution_count": 29,
     "metadata": {},
     "output_type": "execute_result"
    }
   ],
   "source": [
    "records[0]"
   ]
  },
  {
   "cell_type": "code",
   "execution_count": 30,
   "metadata": {},
   "outputs": [
    {
     "data": {
      "text/plain": [
       "('Senior Web Developer',\n",
       " 'Tonic Worldwide',\n",
       " 'Mumbai, Maharashtra•Remote',\n",
       " ['',\n",
       "  'Develop & implement modern web services using service-oriented architecture, RESTful APIs, and SOAP.',\n",
       "  'Test, troubleshoot, and optimize application components for…',\n",
       "  ''],\n",
       " '30+ days ago',\n",
       " '₹50,000 - ₹65,000 a month',\n",
       " '2021-10-18')"
      ]
     },
     "execution_count": 30,
     "metadata": {},
     "output_type": "execute_result"
    }
   ],
   "source": [
    "records[1]"
   ]
  },
  {
   "cell_type": "markdown",
   "metadata": {},
   "source": [
    "# Getting the next page"
   ]
  },
  {
   "cell_type": "code",
   "execution_count": 31,
   "metadata": {},
   "outputs": [
    {
     "data": {
      "text/plain": [
       "'https://in.indeed.com/jobs?q=web+developer&l=Navi+Mumbai+Maharashtra&start=10'"
      ]
     },
     "execution_count": 31,
     "metadata": {},
     "output_type": "execute_result"
    }
   ],
   "source": [
    "url ='https://in.indeed.com' + soup.find('a',{'aria-label': 'Next'}).get('href')\n",
    "url"
   ]
  },
  {
   "cell_type": "code",
   "execution_count": 32,
   "metadata": {},
   "outputs": [],
   "source": [
    "i = 0 \n",
    "for i in range(0,3):\n",
    "    \n",
    "    try:\n",
    "        url ='https://in.indeed.com' + soup.find('a',{'aria-label': 'Next'}).get('href')\n",
    "    except AttributeError:\n",
    "        break\n",
    "        \n",
    "        response = requests.get(url)\n",
    "        soup = BeautifulSoup(response.text,'html.parser')\n",
    "        cards = soup.find_all('div',re.compile(r'slider_container'))\n",
    "        \n",
    "        for card in cards:\n",
    "            record = get_record(card)\n",
    "            records.append(record)"
   ]
  },
  {
   "cell_type": "code",
   "execution_count": 33,
   "metadata": {},
   "outputs": [
    {
     "data": {
      "text/plain": [
       "15"
      ]
     },
     "execution_count": 33,
     "metadata": {},
     "output_type": "execute_result"
    }
   ],
   "source": [
    "len(records)"
   ]
  },
  {
   "cell_type": "markdown",
   "metadata": {},
   "source": [
    "# Putting it all together"
   ]
  },
  {
   "cell_type": "code",
   "execution_count": 34,
   "metadata": {},
   "outputs": [],
   "source": [
    "import csv\n",
    "from datetime import datetime\n",
    "import re\n",
    "import requests\n",
    "from bs4 import BeautifulSoup\n",
    "\n",
    "def get_url(position,location):\n",
    "    url = \"https://in.indeed.com/jobs?q={}&l={}\"\n",
    "    url1 = url.format(position,location)\n",
    "    return url1\n",
    "\n",
    "def get_record(card):\n",
    "    card.div.span\n",
    "    title = card.find('div', class_= re.compile(r'heading+')).text\n",
    "    card['title'] = title\n",
    "    job_title = card['title']\n",
    "    company = card.find('span',re.compile(r'companyName')).text\n",
    "    job_location= card.find('div',class_= re.compile(r'companyLocation')).text\n",
    "    job_summary = card.find('div',re.compile(r'job-snippet')).text\n",
    "    job_sum = re.split('\\n',job_summary)\n",
    "    date_job = card.find('span','date').text\n",
    "    today = datetime.today().strftime('%Y-%m-%d')\n",
    "    try:\n",
    "        job_salary = card.find('span',re.compile(r'salary-snippet')).text\n",
    "    except AttributeError:\n",
    "        job_salary = ' '\n",
    "    record = (job_title,company,job_location,job_sum,date_job,job_salary,today)\n",
    "    return record \n",
    "\n",
    "def main(position,location):\n",
    "    records = []\n",
    "    url = get_url(position,location)\n",
    "    \n",
    "    i = 0 \n",
    "for i in range(0,3):\n",
    "    \n",
    "    try:\n",
    "        url ='https://in.indeed.com' + soup.find('a',{'aria-label': 'Next'}).get('href')\n",
    "    except AttributeError:\n",
    "        break\n",
    "        \n",
    "        response = requests.get(url)\n",
    "        soup = BeautifulSoup(response.text,'html.parser')\n",
    "        cards = soup.find_all('div',re.compile(r'slider_container'))\n",
    "        \n",
    "        for card in cards:\n",
    "            record = get_record(card)\n",
    "            records.append(record)\n",
    "    \n",
    "    with open('result.csv','w',newline='',encoding='utf-8') as f:\n",
    "        writer = csv.writer(f)\n",
    "        writer.writerow(['JobTitle','Company','Location','Summary','ExtractDate','Salary',\n",
    "                         'Today_Date'])\n",
    "        writer.writerows(records)"
   ]
  },
  {
   "cell_type": "code",
   "execution_count": 35,
   "metadata": {},
   "outputs": [],
   "source": [
    "main('web developer','Navi Mumbai, Maharashtra')"
   ]
  },
  {
   "cell_type": "code",
   "execution_count": 36,
   "metadata": {},
   "outputs": [],
   "source": [
    "import pandas as pd"
   ]
  },
  {
   "cell_type": "code",
   "execution_count": 37,
   "metadata": {},
   "outputs": [
    {
     "data": {
      "text/html": [
       "<div>\n",
       "<style scoped>\n",
       "    .dataframe tbody tr th:only-of-type {\n",
       "        vertical-align: middle;\n",
       "    }\n",
       "\n",
       "    .dataframe tbody tr th {\n",
       "        vertical-align: top;\n",
       "    }\n",
       "\n",
       "    .dataframe thead th {\n",
       "        text-align: right;\n",
       "    }\n",
       "</style>\n",
       "<table border=\"1\" class=\"dataframe\">\n",
       "  <thead>\n",
       "    <tr style=\"text-align: right;\">\n",
       "      <th></th>\n",
       "      <th>JobTitle</th>\n",
       "      <th>Company</th>\n",
       "      <th>Location</th>\n",
       "      <th>Summary</th>\n",
       "      <th>ExtractDate</th>\n",
       "      <th>Salary</th>\n",
       "      <th>Today_Date</th>\n",
       "    </tr>\n",
       "  </thead>\n",
       "  <tbody>\n",
       "    <tr>\n",
       "      <th>0</th>\n",
       "      <td>newProject Manager- Web/Software Development</td>\n",
       "      <td>Spiralyze</td>\n",
       "      <td>Mumbai, Maharashtra•Remote</td>\n",
       "      <td>['', 'We code those designs into challenger we...</td>\n",
       "      <td>3 days ago</td>\n",
       "      <td>₹30,000 - ₹80,000 a month</td>\n",
       "      <td>2021-10-18</td>\n",
       "    </tr>\n",
       "    <tr>\n",
       "      <th>1</th>\n",
       "      <td>Senior Web Developer</td>\n",
       "      <td>Tonic Worldwide</td>\n",
       "      <td>Mumbai, Maharashtra•Remote</td>\n",
       "      <td>['', 'Develop &amp; implement modern web services ...</td>\n",
       "      <td>30+ days ago</td>\n",
       "      <td>₹50,000 - ₹65,000 a month</td>\n",
       "      <td>2021-10-18</td>\n",
       "    </tr>\n",
       "    <tr>\n",
       "      <th>2</th>\n",
       "      <td>newWeb Designer &amp; Developer</td>\n",
       "      <td>Ardent Research</td>\n",
       "      <td>Mumbai, Maharashtra•Remote</td>\n",
       "      <td>['', 'Writes/reads clean well-documented custo...</td>\n",
       "      <td>Just posted</td>\n",
       "      <td>₹9,676 - ₹18,866 a month</td>\n",
       "      <td>2021-10-18</td>\n",
       "    </tr>\n",
       "    <tr>\n",
       "      <th>3</th>\n",
       "      <td>newWeb Developer</td>\n",
       "      <td>Mobavenue Media Pvt Ltd</td>\n",
       "      <td>Mumbai, Maharashtra•Remote</td>\n",
       "      <td>['', 'A solid understanding of how web applica...</td>\n",
       "      <td>Just posted</td>\n",
       "      <td>₹18,000 - ₹20,000 a month</td>\n",
       "      <td>2021-10-18</td>\n",
       "    </tr>\n",
       "    <tr>\n",
       "      <th>4</th>\n",
       "      <td>newWeb Developer - PHP</td>\n",
       "      <td>Bambu</td>\n",
       "      <td>Navi Mumbai, Maharashtra</td>\n",
       "      <td>['', 'Solid ability to translate UI/UX design ...</td>\n",
       "      <td>Just posted</td>\n",
       "      <td></td>\n",
       "      <td>2021-10-18</td>\n",
       "    </tr>\n",
       "    <tr>\n",
       "      <th>5</th>\n",
       "      <td>Front-End Web Developer</td>\n",
       "      <td>TIC</td>\n",
       "      <td>Navi Mumbai, Maharashtra</td>\n",
       "      <td>['', 'Proficient understanding of web markup, ...</td>\n",
       "      <td>30+ days ago</td>\n",
       "      <td></td>\n",
       "      <td>2021-10-18</td>\n",
       "    </tr>\n",
       "    <tr>\n",
       "      <th>6</th>\n",
       "      <td>Web Developer</td>\n",
       "      <td>PTS Systems &amp; Solutions Pvt Ltd</td>\n",
       "      <td>Navi Mumbai, Maharashtra</td>\n",
       "      <td>['', 'Writing well designed, testable, efficie...</td>\n",
       "      <td>30+ days ago</td>\n",
       "      <td>₹15,000 - ₹20,000 a month</td>\n",
       "      <td>2021-10-18</td>\n",
       "    </tr>\n",
       "    <tr>\n",
       "      <th>7</th>\n",
       "      <td>HTML Developer</td>\n",
       "      <td>G-ORDINATEUR PVT LTD</td>\n",
       "      <td>Navi Mumbai, Maharashtra•Temporarily Remote</td>\n",
       "      <td>['', 'Experience building large consumer web a...</td>\n",
       "      <td>27 days ago</td>\n",
       "      <td>₹1,20,000 - ₹2,40,000 a year</td>\n",
       "      <td>2021-10-18</td>\n",
       "    </tr>\n",
       "    <tr>\n",
       "      <th>8</th>\n",
       "      <td>Web Developer</td>\n",
       "      <td>GIT Technologies</td>\n",
       "      <td>Vashi, Navi Mumbai, Maharashtra</td>\n",
       "      <td>['', 'Skills At least 1 - 2 years of experienc...</td>\n",
       "      <td>19 days ago</td>\n",
       "      <td></td>\n",
       "      <td>2021-10-18</td>\n",
       "    </tr>\n",
       "    <tr>\n",
       "      <th>9</th>\n",
       "      <td>newWordpress Developer</td>\n",
       "      <td>Brain Candy</td>\n",
       "      <td>Navi Mumbai, Maharashtra</td>\n",
       "      <td>['', 'Intimate understanding of the WordPress ...</td>\n",
       "      <td>4 days ago</td>\n",
       "      <td></td>\n",
       "      <td>2021-10-18</td>\n",
       "    </tr>\n",
       "    <tr>\n",
       "      <th>10</th>\n",
       "      <td>newPHP Developer</td>\n",
       "      <td>Neolite Infotech</td>\n",
       "      <td>Navi Mumbai, Maharashtra</td>\n",
       "      <td>['', 'Strong coding skill in PHP-MySQL, MONGO ...</td>\n",
       "      <td>2 days ago</td>\n",
       "      <td></td>\n",
       "      <td>2021-10-18</td>\n",
       "    </tr>\n",
       "    <tr>\n",
       "      <th>11</th>\n",
       "      <td>newWeb Developer PHP - Immediate Joinee</td>\n",
       "      <td>Tradesocio India Private Limited</td>\n",
       "      <td>Navi Mumbai, Maharashtra•Temporarily Remote</td>\n",
       "      <td>['', 'Solid ability to translate UI/UX design ...</td>\n",
       "      <td>4 days ago</td>\n",
       "      <td></td>\n",
       "      <td>2021-10-18</td>\n",
       "    </tr>\n",
       "    <tr>\n",
       "      <th>12</th>\n",
       "      <td>Web Developer</td>\n",
       "      <td>GAMSYS</td>\n",
       "      <td>CBD Belapur, Navi Mumbai, Maharashtra</td>\n",
       "      <td>['', 'Developing mobile Friendly and responsiv...</td>\n",
       "      <td>30+ days ago</td>\n",
       "      <td></td>\n",
       "      <td>2021-10-18</td>\n",
       "    </tr>\n",
       "    <tr>\n",
       "      <th>13</th>\n",
       "      <td>Web Developer Intern</td>\n",
       "      <td>ARCITECH</td>\n",
       "      <td>Mumbai, Maharashtra</td>\n",
       "      <td>['', 'Assist in troubleshooting issues on web-...</td>\n",
       "      <td>18 days ago</td>\n",
       "      <td>₹3,000 a month</td>\n",
       "      <td>2021-10-18</td>\n",
       "    </tr>\n",
       "    <tr>\n",
       "      <th>14</th>\n",
       "      <td>newWeb Designer &amp; Developer</td>\n",
       "      <td>Vigo Infotech Pvt. Ltd.</td>\n",
       "      <td>Mumbai, Maharashtra</td>\n",
       "      <td>['', 'Responsive web design: 1 year (Preferred...</td>\n",
       "      <td>Just posted</td>\n",
       "      <td>₹5,000 - ₹12,000 a month</td>\n",
       "      <td>2021-10-18</td>\n",
       "    </tr>\n",
       "  </tbody>\n",
       "</table>\n",
       "</div>"
      ],
      "text/plain": [
       "                                        JobTitle  \\\n",
       "0   newProject Manager- Web/Software Development   \n",
       "1                           Senior Web Developer   \n",
       "2                    newWeb Designer & Developer   \n",
       "3                               newWeb Developer   \n",
       "4                         newWeb Developer - PHP   \n",
       "5                        Front-End Web Developer   \n",
       "6                                  Web Developer   \n",
       "7                                 HTML Developer   \n",
       "8                                  Web Developer   \n",
       "9                         newWordpress Developer   \n",
       "10                              newPHP Developer   \n",
       "11       newWeb Developer PHP - Immediate Joinee   \n",
       "12                                 Web Developer   \n",
       "13                          Web Developer Intern   \n",
       "14                   newWeb Designer & Developer   \n",
       "\n",
       "                             Company  \\\n",
       "0                          Spiralyze   \n",
       "1                    Tonic Worldwide   \n",
       "2                    Ardent Research   \n",
       "3            Mobavenue Media Pvt Ltd   \n",
       "4                              Bambu   \n",
       "5                                TIC   \n",
       "6    PTS Systems & Solutions Pvt Ltd   \n",
       "7               G-ORDINATEUR PVT LTD   \n",
       "8                   GIT Technologies   \n",
       "9                        Brain Candy   \n",
       "10                  Neolite Infotech   \n",
       "11  Tradesocio India Private Limited   \n",
       "12                            GAMSYS   \n",
       "13                          ARCITECH   \n",
       "14           Vigo Infotech Pvt. Ltd.   \n",
       "\n",
       "                                       Location  \\\n",
       "0                    Mumbai, Maharashtra•Remote   \n",
       "1                    Mumbai, Maharashtra•Remote   \n",
       "2                    Mumbai, Maharashtra•Remote   \n",
       "3                    Mumbai, Maharashtra•Remote   \n",
       "4                      Navi Mumbai, Maharashtra   \n",
       "5                      Navi Mumbai, Maharashtra   \n",
       "6                      Navi Mumbai, Maharashtra   \n",
       "7   Navi Mumbai, Maharashtra•Temporarily Remote   \n",
       "8               Vashi, Navi Mumbai, Maharashtra   \n",
       "9                      Navi Mumbai, Maharashtra   \n",
       "10                     Navi Mumbai, Maharashtra   \n",
       "11  Navi Mumbai, Maharashtra•Temporarily Remote   \n",
       "12        CBD Belapur, Navi Mumbai, Maharashtra   \n",
       "13                          Mumbai, Maharashtra   \n",
       "14                          Mumbai, Maharashtra   \n",
       "\n",
       "                                              Summary   ExtractDate  \\\n",
       "0   ['', 'We code those designs into challenger we...    3 days ago   \n",
       "1   ['', 'Develop & implement modern web services ...  30+ days ago   \n",
       "2   ['', 'Writes/reads clean well-documented custo...   Just posted   \n",
       "3   ['', 'A solid understanding of how web applica...   Just posted   \n",
       "4   ['', 'Solid ability to translate UI/UX design ...   Just posted   \n",
       "5   ['', 'Proficient understanding of web markup, ...  30+ days ago   \n",
       "6   ['', 'Writing well designed, testable, efficie...  30+ days ago   \n",
       "7   ['', 'Experience building large consumer web a...   27 days ago   \n",
       "8   ['', 'Skills At least 1 - 2 years of experienc...   19 days ago   \n",
       "9   ['', 'Intimate understanding of the WordPress ...    4 days ago   \n",
       "10  ['', 'Strong coding skill in PHP-MySQL, MONGO ...    2 days ago   \n",
       "11  ['', 'Solid ability to translate UI/UX design ...    4 days ago   \n",
       "12  ['', 'Developing mobile Friendly and responsiv...  30+ days ago   \n",
       "13  ['', 'Assist in troubleshooting issues on web-...   18 days ago   \n",
       "14  ['', 'Responsive web design: 1 year (Preferred...   Just posted   \n",
       "\n",
       "                          Salary  Today_Date  \n",
       "0      ₹30,000 - ₹80,000 a month  2021-10-18  \n",
       "1      ₹50,000 - ₹65,000 a month  2021-10-18  \n",
       "2       ₹9,676 - ₹18,866 a month  2021-10-18  \n",
       "3      ₹18,000 - ₹20,000 a month  2021-10-18  \n",
       "4                                 2021-10-18  \n",
       "5                                 2021-10-18  \n",
       "6      ₹15,000 - ₹20,000 a month  2021-10-18  \n",
       "7   ₹1,20,000 - ₹2,40,000 a year  2021-10-18  \n",
       "8                                 2021-10-18  \n",
       "9                                 2021-10-18  \n",
       "10                                2021-10-18  \n",
       "11                                2021-10-18  \n",
       "12                                2021-10-18  \n",
       "13                ₹3,000 a month  2021-10-18  \n",
       "14      ₹5,000 - ₹12,000 a month  2021-10-18  "
      ]
     },
     "execution_count": 37,
     "metadata": {},
     "output_type": "execute_result"
    }
   ],
   "source": [
    "address = 'result.csv'\n",
    "data = pd.read_csv(address)\n",
    "data"
   ]
  },
  {
   "cell_type": "code",
   "execution_count": null,
   "metadata": {},
   "outputs": [],
   "source": []
  }
 ],
 "metadata": {
  "kernelspec": {
   "display_name": "Python 3",
   "language": "python",
   "name": "python3"
  },
  "language_info": {
   "codemirror_mode": {
    "name": "ipython",
    "version": 3
   },
   "file_extension": ".py",
   "mimetype": "text/x-python",
   "name": "python",
   "nbconvert_exporter": "python",
   "pygments_lexer": "ipython3",
   "version": "3.8.2"
  }
 },
 "nbformat": 4,
 "nbformat_minor": 4
}
