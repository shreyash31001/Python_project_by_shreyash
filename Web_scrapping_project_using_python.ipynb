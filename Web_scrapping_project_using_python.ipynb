{
 "cells": [
  {
   "cell_type": "code",
   "execution_count": 1,
   "metadata": {},
   "outputs": [],
   "source": [
    "import requests\n",
    "from bs4 import BeautifulSoup"
   ]
  },
  {
   "cell_type": "code",
   "execution_count": 2,
   "metadata": {},
   "outputs": [],
   "source": [
    "import csv\n",
    "from datetime import datetime\n",
    "import re"
   ]
  },
  {
   "cell_type": "code",
   "execution_count": 3,
   "metadata": {},
   "outputs": [],
   "source": [
    "url = \"https://in.indeed.com/jobs?q={}&l={}\"\n",
    "r = requests.get(url)\n",
    "htmlContent = r.content\n",
    "#  print(htmlContent)"
   ]
  },
  {
   "cell_type": "code",
   "execution_count": 4,
   "metadata": {},
   "outputs": [],
   "source": [
    "def get_url(position,location):\n",
    "    url = \"https://in.indeed.com/jobs?q={}&l={}\"\n",
    "    url1 = url.format(position,location)\n",
    "    return url1\n",
    "    "
   ]
  },
  {
   "cell_type": "code",
   "execution_count": 5,
   "metadata": {},
   "outputs": [],
   "source": [
    "url = get_url(\"web developer\",\"Navi Mumbai Maharashtra\")"
   ]
  },
  {
   "cell_type": "markdown",
   "metadata": {},
   "source": [
    "# Extracting raw Html"
   ]
  },
  {
   "cell_type": "code",
   "execution_count": 6,
   "metadata": {},
   "outputs": [],
   "source": [
    "response = requests.get(url)"
   ]
  },
  {
   "cell_type": "code",
   "execution_count": 7,
   "metadata": {},
   "outputs": [
    {
     "data": {
      "text/plain": [
       "<Response [200]>"
      ]
     },
     "execution_count": 7,
     "metadata": {},
     "output_type": "execute_result"
    }
   ],
   "source": [
    "response"
   ]
  },
  {
   "cell_type": "code",
   "execution_count": 8,
   "metadata": {},
   "outputs": [
    {
     "data": {
      "text/plain": [
       "''"
      ]
     },
     "execution_count": 8,
     "metadata": {},
     "output_type": "execute_result"
    }
   ],
   "source": [
    "response.reason"
   ]
  },
  {
   "cell_type": "code",
   "execution_count": 9,
   "metadata": {},
   "outputs": [],
   "source": [
    "soup = BeautifulSoup(response.text,'html.parser')"
   ]
  },
  {
   "cell_type": "code",
   "execution_count": 10,
   "metadata": {},
   "outputs": [
    {
     "data": {
      "text/plain": [
       "[<div class=\"slider_container\"><div class=\"slider_list\"><div class=\"slider_item\"><div class=\"job_seen_beacon\"><table cellpadding=\"0\" cellspacing=\"0\" class=\"jobCard_mainContent\" role=\"presentation\"><tbody><tr><td class=\"resultContent\"><div class=\"heading4 color-text-primary singleLineTitle tapItem-gutter\"><h2 class=\"jobTitle jobTitle-color-purple jobTitle-newJob\"><div class=\"new topLeft holisticNewBlue desktop\"><span class=\"label\">new</span></div><span title=\"Web Developer\">Web Developer</span></h2></div><div class=\"heading6 company_location tapItem-gutter\"><pre><span class=\"companyName\">DotSyndicate</span><div class=\"companyLocation\">Mumbai, Maharashtra</div></pre></div><div class=\"heading6 tapItem-gutter metadataContainer\"><div class=\"metadata salary-snippet-container\"><span aria-label=\"₹25,000 to ₹35,000 a month\" class=\"salary-snippet\">₹25,000 - ₹35,000 a month</span></div></div><div class=\"heading6 error-text tapItem-gutter\"></div></td></tr></tbody></table><table class=\"jobCardShelfContainer\" role=\"presentation\"><tbody><tr class=\"jobCardShelf\"><td class=\"shelfItem indeedApply\"><span class=\"iaIcon\"></span><span class=\"ialbl iaTextBlack\">Apply securely with Indeed Resume</span></td><td class=\"shelfItem responsiveEmployer\"><div><span class=\"responsiveEmployerIcon\"></span>Responsive employer</div></td><td class=\"shelfItem urgentlyHiring\"><div class=\"urgentlyHiring\"><span class=\"urgentlyHiringIcon\"></span>Urgently hiring</div></td></tr><tr class=\"underShelfFooter\"><td><div class=\"heading6 tapItem-gutter result-footer\"><div class=\"job-snippet\"><ul style=\"list-style-type:circle;margin-top: 0px;margin-bottom: 0px;padding-left:20px;\">\n",
       " <li style=\"margin-bottom:0px;\">We are expanding our team and are looking for elite <b>web</b> <b>developers</b>, who have good experience in developing theme based websites.</li>\n",
       " <li>CSS/CSS3: 1 year (Preferred).</li>\n",
       " </ul></div><span class=\"date\">1 day ago</span></div></td></tr></tbody></table><div aria-live=\"polite\"></div></div></div><div class=\"slider_sub_item\"></div></div></div>,\n",
       " <div class=\"slider_container\"><div class=\"slider_list\"><div class=\"slider_item\"><div class=\"job_seen_beacon\"><table cellpadding=\"0\" cellspacing=\"0\" class=\"jobCard_mainContent\" role=\"presentation\"><tbody><tr><td class=\"resultContent\"><div class=\"heading4 color-text-primary singleLineTitle tapItem-gutter\"><h2 class=\"jobTitle jobTitle-color-purple\"><span title=\"Web Developer\">Web Developer</span></h2></div><div class=\"heading6 company_location tapItem-gutter\"><pre><span class=\"companyName\">Makebot Robotic Solutions Pvt. Ltd</span><div class=\"companyLocation\">Navi Mumbai, Maharashtra</div></pre></div><div class=\"heading6 tapItem-gutter metadataContainer\"><div class=\"metadata salary-snippet-container\"><span aria-label=\"₹20,000 to ₹25,000 a month\" class=\"salary-snippet\">₹20,000 - ₹25,000 a month</span></div></div><div class=\"heading6 error-text tapItem-gutter\"></div></td></tr></tbody></table><table class=\"jobCardShelfContainer\" role=\"presentation\"><tbody><tr class=\"jobCardShelf\"><td class=\"shelfItem indeedApply\"><span class=\"iaIcon\"></span><span class=\"ialbl iaTextBlack\">Apply securely with Indeed Resume</span></td></tr><tr class=\"underShelfFooter\"><td><div class=\"heading6 tapItem-gutter result-footer\"><div class=\"job-snippet\"><ul style=\"list-style-type:circle;margin-top: 0px;margin-bottom: 0px;padding-left:20px;\">\n",
       " <li style=\"margin-bottom:0px;\">Working closely with <b>web</b> designers and programmers to produce the website.</li>\n",
       " <li>Creating websites/a website using standard HTML/CSS practices.</li>\n",
       " </ul></div><span class=\"date\">27 days ago</span><span class=\"result-link-bar-separator\">·</span><button aria-expanded=\"false\" class=\"sl resultLink more_links_button\" type=\"button\">More...</button></div><div class=\"tab-container\"><div class=\"more-links-container result-tab\" role=\"presentation\"><div class=\"more_links\"><button class=\"close-button\" title=\"Close\" type=\"button\"></button><ul><li><span class=\"mat\">View all <a href=\"/Makebot-Robotic-Solutions-Pvt.-Ltd-jobs\">Makebot Robotic Solutions Pvt. Ltd jobs</a> - <a href=\"/jobs-in-Navi-Mumbai,-Maharashtra\">Navi Mumbai jobs</a></span></li><li><span class=\"mat\">Salary Search: <a href=\"/career/web-developer/salaries/Navi-Mumbai--Maharashtra?campaignid=serp-more&amp;fromjk=4b0f22ad54ed28c9&amp;from=serp-more\">Web Developer salaries in Navi Mumbai, Maharashtra</a></span></li></ul></div></div></div></td></tr></tbody></table><div aria-live=\"polite\"></div></div></div><div class=\"slider_sub_item\"></div></div></div>,\n",
       " <div class=\"slider_container\"><div class=\"slider_list\"><div class=\"slider_item\"><div class=\"job_seen_beacon\"><table cellpadding=\"0\" cellspacing=\"0\" class=\"jobCard_mainContent\" role=\"presentation\"><tbody><tr><td class=\"resultContent\"><div class=\"heading4 color-text-primary singleLineTitle tapItem-gutter\"><h2 class=\"jobTitle jobTitle-color-purple\"><span title=\"Web Developer\">Web Developer</span></h2></div><div class=\"heading6 company_location tapItem-gutter\"><pre><span class=\"companyName\">PTS Systems &amp; Solutions Pvt Ltd</span><div class=\"companyLocation\">Navi Mumbai, Maharashtra</div></pre></div><div class=\"heading6 tapItem-gutter metadataContainer\"><div class=\"metadata salary-snippet-container\"><span aria-label=\"₹15,000 to ₹20,000 a month\" class=\"salary-snippet\">₹15,000 - ₹20,000 a month</span></div></div><div class=\"heading6 error-text tapItem-gutter\"></div></td></tr></tbody></table><table class=\"jobCardShelfContainer\" role=\"presentation\"><tbody><tr class=\"jobCardShelf\"><td class=\"shelfItem indeedApply\"><span class=\"iaIcon\"></span><span class=\"ialbl iaTextBlack\">Apply securely with Indeed Resume</span></td><td class=\"shelfItem responsiveEmployer\"><div><span class=\"responsiveEmployerIcon\"></span>Responsive employer</div></td><td class=\"shelfItem urgentlyHiring\"><div class=\"urgentlyHiring\"><span class=\"urgentlyHiringIcon\"></span>Urgently hiring</div></td></tr><tr class=\"underShelfFooter\"><td><div class=\"heading6 tapItem-gutter result-footer\"><div class=\"job-snippet\"><ul style=\"list-style-type:circle;margin-top: 0px;margin-bottom: 0px;padding-left:20px;\">\n",
       " <li style=\"margin-bottom:0px;\">Writing well designed, testable, efficient code by using best software development practices.</li>\n",
       " <li>Integrating data from various back-end services and databases.</li>\n",
       " </ul></div><span class=\"date\">30 days ago</span><span class=\"result-link-bar-separator\">·</span><button aria-expanded=\"false\" class=\"sl resultLink more_links_button\" type=\"button\">More...</button></div><div class=\"tab-container\"><div class=\"more-links-container result-tab\" role=\"presentation\"><div class=\"more_links\"><button class=\"close-button\" title=\"Close\" type=\"button\"></button><ul><li><span class=\"mat\">View all <a href=\"/Pts-Systems-&amp;-Solutions-Pvt-Ltd-jobs\">PTS Systems &amp; Solutions Pvt Ltd jobs</a> - <a href=\"/jobs-in-Navi-Mumbai,-Maharashtra\">Navi Mumbai jobs</a></span></li><li><span class=\"mat\">Salary Search: <a href=\"/career/web-developer/salaries/Navi-Mumbai--Maharashtra?campaignid=serp-more&amp;fromjk=e8853e1b01b9a34a&amp;from=serp-more\">Web Developer salaries in Navi Mumbai, Maharashtra</a></span></li></ul></div></div></div></td></tr></tbody></table><div aria-live=\"polite\"></div></div></div><div class=\"slider_sub_item\"></div></div></div>,\n",
       " <div class=\"slider_container\"><div class=\"slider_list\"><div class=\"slider_item\"><div class=\"job_seen_beacon\"><table cellpadding=\"0\" cellspacing=\"0\" class=\"jobCard_mainContent\" role=\"presentation\"><tbody><tr><td class=\"resultContent\"><div class=\"heading4 color-text-primary singleLineTitle tapItem-gutter\"><h2 class=\"jobTitle jobTitle-color-purple\"><span title=\"HTML Developer\">HTML Developer</span></h2></div><div class=\"heading6 company_location tapItem-gutter\"><pre><span class=\"companyName\">G-ORDINATEUR PVT LTD</span><div class=\"companyLocation\">Navi Mumbai, Maharashtra<span class=\"remote-bullet\">•</span><span>Temporarily Remote</span></div></pre></div><div class=\"heading6 tapItem-gutter metadataContainer\"><div class=\"metadata salary-snippet-container\"><span aria-label=\"₹1,20,000 to ₹2,40,000 a year\" class=\"salary-snippet\">₹1,20,000 - ₹2,40,000 a year</span></div></div><div class=\"heading6 error-text tapItem-gutter\"></div></td></tr></tbody></table><table class=\"jobCardShelfContainer\" role=\"presentation\"><tbody><tr class=\"jobCardShelf\"><td class=\"shelfItem indeedApply\"><span class=\"iaIcon\"></span><span class=\"ialbl iaTextBlack\">Apply securely with Indeed Resume</span></td></tr><tr class=\"underShelfFooter\"><td><div class=\"heading6 tapItem-gutter result-footer\"><div class=\"job-snippet\"><ul style=\"list-style-type:circle;margin-top: 0px;margin-bottom: 0px;padding-left:20px;\">\n",
       " <li style=\"margin-bottom:0px;\">Experience building large consumer <b>web</b> applications.</li>\n",
       " <li style=\"margin-bottom:0px;\">Code new features and enhancements across several <b>web</b> apps.</li>\n",
       " <li>Shift Timings: 10.00 am- 07.00 pm.</li>\n",
       " </ul></div><span class=\"date\">22 days ago</span><span class=\"result-link-bar-separator\">·</span><button aria-expanded=\"false\" class=\"sl resultLink more_links_button\" type=\"button\">More...</button></div><div class=\"tab-container\"><div class=\"more-links-container result-tab\" role=\"presentation\"><div class=\"more_links\"><button class=\"close-button\" title=\"Close\" type=\"button\"></button><ul><li><span class=\"mat\">View all <a href=\"/jobs?q=G-ordinateur+Pvt+Ltd\">G-ORDINATEUR PVT LTD jobs</a> - <a href=\"/jobs-in-Navi-Mumbai,-Maharashtra\">Navi Mumbai jobs</a></span></li><li><span class=\"mat\">Salary Search: <a href=\"/career/web-developer/salaries/Navi-Mumbai--Maharashtra?campaignid=serp-more&amp;fromjk=88dffdcb82d42df2&amp;from=serp-more\">HTML Developer salaries in Navi Mumbai, Maharashtra</a></span></li></ul></div></div></div></td></tr></tbody></table><div aria-live=\"polite\"></div></div></div><div class=\"slider_sub_item\"></div></div></div>,\n",
       " <div class=\"slider_container\"><div class=\"slider_list\"><div class=\"slider_item\"><div class=\"job_seen_beacon\"><table cellpadding=\"0\" cellspacing=\"0\" class=\"jobCard_mainContent\" role=\"presentation\"><tbody><tr><td class=\"resultContent\"><div class=\"heading4 color-text-primary singleLineTitle tapItem-gutter\"><h2 class=\"jobTitle jobTitle-color-purple jobTitle-newJob\"><div class=\"new topLeft holisticNewBlue desktop\"><span class=\"label\">new</span></div><span title=\"Wordpress Developer\">Wordpress Developer</span></h2></div><div class=\"heading6 company_location tapItem-gutter\"><pre><span class=\"companyName\">Brain Candy</span><div class=\"companyLocation\">Navi Mumbai, Maharashtra</div></pre></div><div class=\"heading6 error-text tapItem-gutter\"></div></td></tr></tbody></table><table class=\"jobCardShelfContainer\" role=\"presentation\"><tbody><tr class=\"jobCardShelf\"></tr><tr class=\"underShelfFooter\"><td><div class=\"heading6 tapItem-gutter result-footer\"><div class=\"job-snippet\"><ul style=\"list-style-type:circle;margin-top: 0px;margin-bottom: 0px;padding-left:20px;\">\n",
       " <li style=\"margin-bottom:0px;\">Intimate understanding of the WordPress core, Plugins Integration.</li>\n",
       " <li>Knowledge of core PHP, JavaScript, HTML, CSS.</li>\n",
       " </ul></div><span class=\"date\">Today</span><span class=\"result-link-bar-separator\">·</span><button aria-expanded=\"false\" class=\"sl resultLink more_links_button\" type=\"button\">More...</button></div><div class=\"tab-container\"><div class=\"more-links-container result-tab\" role=\"presentation\"><div class=\"more_links\"><button class=\"close-button\" title=\"Close\" type=\"button\"></button><ul><li><span class=\"mat\">View all <a href=\"/Brain-Candy-jobs\">Brain Candy jobs</a> - <a href=\"/jobs-in-Navi-Mumbai,-Maharashtra\">Navi Mumbai jobs</a></span></li><li><span class=\"mat\">Salary Search: <a href=\"/career/wordpress-developer/salaries/Navi-Mumbai--Maharashtra?campaignid=serp-more&amp;fromjk=4718842d7f852117&amp;from=serp-more\">Wordpress Developer salaries in Navi Mumbai, Maharashtra</a></span></li></ul></div></div></div></td></tr></tbody></table><div aria-live=\"polite\"></div></div></div><div class=\"slider_sub_item\"></div></div></div>,\n",
       " <div class=\"slider_container\"><div class=\"slider_list\"><div class=\"slider_item\"><div class=\"job_seen_beacon\"><table cellpadding=\"0\" cellspacing=\"0\" class=\"jobCard_mainContent\" role=\"presentation\"><tbody><tr><td class=\"resultContent\"><div class=\"heading4 color-text-primary singleLineTitle tapItem-gutter\"><h2 class=\"jobTitle jobTitle-color-purple\"><span title=\"Front-End Web Developer\">Front-End Web Developer</span></h2></div><div class=\"heading6 company_location tapItem-gutter\"><pre><span class=\"companyName\">TIC</span><div class=\"companyLocation\">Navi Mumbai, Maharashtra</div></pre></div><div class=\"heading6 error-text tapItem-gutter\"></div></td></tr></tbody></table><table class=\"jobCardShelfContainer\" role=\"presentation\"><tbody><tr class=\"jobCardShelf\"></tr><tr class=\"underShelfFooter\"><td><div class=\"heading6 tapItem-gutter result-footer\"><div class=\"job-snippet\"><ul style=\"list-style-type:circle;margin-top: 0px;margin-bottom: 0px;padding-left:20px;\">\n",
       " <li style=\"margin-bottom:0px;\">Proficient understanding of <b>web</b> markup, including HTML5, CSS3.</li>\n",
       " <li>Optimize application for maximum speed and scalability.</li>\n",
       " </ul></div><span class=\"date\">30+ days ago</span><span class=\"result-link-bar-separator\">·</span><button aria-expanded=\"false\" class=\"sl resultLink more_links_button\" type=\"button\">More...</button></div><div class=\"tab-container\"><div class=\"more-links-container result-tab\" role=\"presentation\"><div class=\"more_links\"><button class=\"close-button\" title=\"Close\" type=\"button\"></button><ul><li><span class=\"mat\">View all <a href=\"/Tic-jobs\">TIC jobs</a> - <a href=\"/jobs-in-Navi-Mumbai,-Maharashtra\">Navi Mumbai jobs</a></span></li><li><span class=\"mat\">Salary Search: <a href=\"/career/front-end-developer/salaries/Navi-Mumbai--Maharashtra?campaignid=serp-more&amp;fromjk=62b03697ec1241ca&amp;from=serp-more\">Front-End Web Developer salaries in Navi Mumbai, Maharashtra</a></span></li></ul></div></div></div></td></tr></tbody></table><div aria-live=\"polite\"></div></div></div><div class=\"slider_sub_item\"></div></div></div>,\n",
       " <div class=\"slider_container\"><div class=\"slider_list\"><div class=\"slider_item\"><div class=\"job_seen_beacon\"><table cellpadding=\"0\" cellspacing=\"0\" class=\"jobCard_mainContent\" role=\"presentation\"><tbody><tr><td class=\"resultContent\"><div class=\"heading4 color-text-primary singleLineTitle tapItem-gutter\"><h2 class=\"jobTitle jobTitle-color-purple\"><span title=\"Web Developer\">Web Developer</span></h2></div><div class=\"heading6 company_location tapItem-gutter\"><pre><span class=\"companyName\">GIT Technologies</span><div class=\"companyLocation\">Vashi, Navi Mumbai, Maharashtra</div></pre></div><div class=\"heading6 error-text tapItem-gutter\"></div></td></tr></tbody></table><table class=\"jobCardShelfContainer\" role=\"presentation\"><tbody><tr class=\"jobCardShelf\"></tr><tr class=\"underShelfFooter\"><td><div class=\"heading6 tapItem-gutter result-footer\"><div class=\"job-snippet\"><ul style=\"list-style-type:circle;margin-top: 0px;margin-bottom: 0px;padding-left:20px;\">\n",
       " <li style=\"margin-bottom:0px;\">Skills At least 1 - 2 years of experience using HTML, CSS, and JavaScript,.</li>\n",
       " <li>Proficiency in at least one server-side technology (Java, PHP, NodeJS etc.).</li>\n",
       " </ul></div><span class=\"date\">15 days ago</span><span class=\"result-link-bar-separator\">·</span><button aria-expanded=\"false\" class=\"sl resultLink more_links_button\" type=\"button\">More...</button></div><div class=\"tab-container\"><div class=\"more-links-container result-tab\" role=\"presentation\"><div class=\"more_links\"><button class=\"close-button\" title=\"Close\" type=\"button\"></button><ul><li><span class=\"mat\">View all <a href=\"/Git-Technologies-jobs\">GIT Technologies jobs</a> - <a href=\"/jobs-in-Vashi,-Navi-Mumbai,-Maharashtra\">Vashi, Navi Mumbai, Maharashtra jobs</a></span></li><li><span class=\"mat\">Salary Search: <a href=\"/career/web-developer/salaries/Vashi--Navi-Mumbai--Maharashtra?campaignid=serp-more&amp;fromjk=8699d0a73e5b59e9&amp;from=serp-more\">Web Developer salaries in Vashi, Navi Mumbai, Maharashtra</a></span></li></ul></div></div></div></td></tr></tbody></table><div aria-live=\"polite\"></div></div></div><div class=\"slider_sub_item\"></div></div></div>,\n",
       " <div class=\"slider_container\"><div class=\"slider_list\"><div class=\"slider_item\"><div class=\"job_seen_beacon\"><table cellpadding=\"0\" cellspacing=\"0\" class=\"jobCard_mainContent\" role=\"presentation\"><tbody><tr><td class=\"resultContent\"><div class=\"heading4 color-text-primary singleLineTitle tapItem-gutter\"><h2 class=\"jobTitle jobTitle-color-purple\"><span title=\"Web Developer Intern\">Web Developer Intern</span></h2></div><div class=\"heading6 company_location tapItem-gutter\"><pre><span class=\"companyName\">ARCITECH</span><div class=\"companyLocation\">Mumbai, Maharashtra</div></pre></div><div class=\"heading6 tapItem-gutter metadataContainer\"><div class=\"metadata salary-snippet-container\"><span aria-label=\"₹3,000 a month\" class=\"salary-snippet\">₹3,000 a month</span></div></div><div class=\"heading6 error-text tapItem-gutter\"></div></td></tr></tbody></table><table class=\"jobCardShelfContainer\" role=\"presentation\"><tbody><tr class=\"jobCardShelf\"><td class=\"shelfItem indeedApply\"><span class=\"iaIcon\"></span><span class=\"ialbl iaTextBlack\">Apply securely with Indeed Resume</span></td></tr><tr class=\"underShelfFooter\"><td><div class=\"heading6 tapItem-gutter result-footer\"><div class=\"job-snippet\"><ul style=\"list-style-type:circle;margin-top: 0px;margin-bottom: 0px;padding-left:20px;\">\n",
       " <li style=\"margin-bottom:0px;\">Assist in troubleshooting issues on web-based systems.</li>\n",
       " <li>Provide technical support related to web-based systems to internal teams.</li>\n",
       " </ul></div><span class=\"date\">13 days ago</span><span class=\"result-link-bar-separator\">·</span><button aria-expanded=\"false\" class=\"sl resultLink more_links_button\" type=\"button\">More...</button></div><div class=\"tab-container\"><div class=\"more-links-container result-tab\" role=\"presentation\"><div class=\"more_links\"><button class=\"close-button\" title=\"Close\" type=\"button\"></button><ul><li><span class=\"mat\">View all <a href=\"/Arcitech-jobs\">ARCITECH jobs</a> - <a href=\"/jobs-in-Mumbai,-Maharashtra\">Mumbai jobs</a></span></li><li><span class=\"mat\">Salary Search: <a href=\"/career/web-developer/salaries/Mumbai--Maharashtra?campaignid=serp-more&amp;fromjk=6d493b06569fe44d&amp;from=serp-more\">Web Developer Intern salaries in Mumbai, Maharashtra</a></span></li></ul></div></div></div></td></tr></tbody></table><div aria-live=\"polite\"></div></div></div><div class=\"slider_sub_item\"></div></div></div>,\n",
       " <div class=\"slider_container\"><div class=\"slider_list\"><div class=\"slider_item\"><div class=\"job_seen_beacon\"><table cellpadding=\"0\" cellspacing=\"0\" class=\"jobCard_mainContent\" role=\"presentation\"><tbody><tr><td class=\"resultContent\"><div class=\"heading4 color-text-primary singleLineTitle tapItem-gutter\"><h2 class=\"jobTitle jobTitle-color-purple jobTitle-newJob\"><div class=\"new topLeft holisticNewBlue desktop\"><span class=\"label\">new</span></div><span title=\"Full Stack Developer\">Full Stack Developer</span></h2></div><div class=\"heading6 company_location tapItem-gutter\"><pre><span class=\"companyName\">Abak Infotech</span><div class=\"companyLocation\">Vashi, Navi Mumbai, Maharashtra</div></pre></div><div class=\"heading6 error-text tapItem-gutter\"></div></td></tr></tbody></table><table class=\"jobCardShelfContainer\" role=\"presentation\"><tbody><tr class=\"jobCardShelf\"></tr><tr class=\"underShelfFooter\"><td><div class=\"heading6 tapItem-gutter result-footer\"><div class=\"job-snippet\"><ul style=\"list-style-type:circle;margin-top: 0px;margin-bottom: 0px;padding-left:20px;\">\n",
       " <li style=\"margin-bottom:0px;\">Integration of front end and back end aspects of <b>web</b> application.</li>\n",
       " <li style=\"margin-bottom:0px;\">Implementing security and data protection.</li>\n",
       " <li>You will be responsible for designing, developing,…</li>\n",
       " </ul></div><span class=\"date\">Just posted</span><span class=\"result-link-bar-separator\">·</span><button aria-expanded=\"false\" class=\"sl resultLink more_links_button\" type=\"button\">More...</button></div><div class=\"tab-container\"><div class=\"more-links-container result-tab\" role=\"presentation\"><div class=\"more_links\"><button class=\"close-button\" title=\"Close\" type=\"button\"></button><ul><li><span class=\"mat\">View all <a href=\"/Abak-Infotech-jobs\">Abak Infotech jobs</a> - <a href=\"/jobs-in-Vashi,-Navi-Mumbai,-Maharashtra\">Vashi, Navi Mumbai, Maharashtra jobs</a></span></li><li><span class=\"mat\">Salary Search: <a href=\"/career/full-stack-developer/salaries/Vashi--Navi-Mumbai--Maharashtra?campaignid=serp-more&amp;fromjk=5fe67a34767c3a0a&amp;from=serp-more\">Full Stack Developer salaries in Vashi, Navi Mumbai, Maharashtra</a></span></li></ul></div></div></div></td></tr></tbody></table><div aria-live=\"polite\"></div></div></div><div class=\"slider_sub_item\"></div></div></div>,\n",
       " <div class=\"slider_container\"><div class=\"slider_list\"><div class=\"slider_item\"><div class=\"job_seen_beacon\"><table cellpadding=\"0\" cellspacing=\"0\" class=\"jobCard_mainContent\" role=\"presentation\"><tbody><tr><td class=\"resultContent\"><div class=\"heading4 color-text-primary singleLineTitle tapItem-gutter\"><h2 class=\"jobTitle jobTitle-color-purple\"><span title=\"Web Developer\">Web Developer</span></h2></div><div class=\"heading6 company_location tapItem-gutter\"><pre><span class=\"companyName\">GAMSYS</span><div class=\"companyLocation\">CBD Belapur, Navi Mumbai, Maharashtra</div></pre></div><div class=\"heading6 error-text tapItem-gutter\"></div></td></tr></tbody></table><table class=\"jobCardShelfContainer\" role=\"presentation\"><tbody><tr class=\"jobCardShelf\"></tr><tr class=\"underShelfFooter\"><td><div class=\"heading6 tapItem-gutter result-footer\"><div class=\"job-snippet\"><ul style=\"list-style-type:circle;margin-top: 0px;margin-bottom: 0px;padding-left:20px;\">\n",
       " <li style=\"margin-bottom:0px;\">Developing mobile Friendly and responsive websites.</li>\n",
       " <li style=\"margin-bottom:0px;\">Assist in building wireframes/prototypes.</li>\n",
       " <li>Keeping up-to-date with recent technological and software…</li>\n",
       " </ul></div><span class=\"date\">30+ days ago</span><span class=\"result-link-bar-separator\">·</span><button aria-expanded=\"false\" class=\"sl resultLink more_links_button\" type=\"button\">More...</button></div><div class=\"tab-container\"><div class=\"more-links-container result-tab\" role=\"presentation\"><div class=\"more_links\"><button class=\"close-button\" title=\"Close\" type=\"button\"></button><ul><li><span class=\"mat\">View all <a href=\"/Gamsys-jobs\">GAMSYS jobs</a> - <a href=\"/jobs-in-CBD-Belapur,-Navi-Mumbai,-Maharashtra\">CBD Belapur, Navi Mumbai, Maharashtra jobs</a></span></li><li><span class=\"mat\">Salary Search: <a href=\"/career/web-developer/salaries/CBD-Belapur--Navi-Mumbai--Maharashtra?campaignid=serp-more&amp;fromjk=383f8251a13e9312&amp;from=serp-more\">Web Developer salaries in CBD Belapur, Navi Mumbai, Maharashtra</a></span></li></ul></div></div></div></td></tr></tbody></table><div aria-live=\"polite\"></div></div></div><div class=\"slider_sub_item\"></div></div></div>,\n",
       " <div class=\"slider_container\"><div class=\"slider_list\"><div class=\"slider_item\"><div class=\"job_seen_beacon\"><table cellpadding=\"0\" cellspacing=\"0\" class=\"jobCard_mainContent\" role=\"presentation\"><tbody><tr><td class=\"resultContent\"><div class=\"heading4 color-text-primary singleLineTitle tapItem-gutter\"><h2 class=\"jobTitle jobTitle-color-purple jobTitle-newJob\"><div class=\"new topLeft holisticNewBlue desktop\"><span class=\"label\">new</span></div><span title=\"Junior Front End Developer\">Junior Front End Developer</span></h2></div><div class=\"heading6 company_location tapItem-gutter\"><pre><span class=\"companyName\">Assurekit Technologies</span><div class=\"companyLocation\">Mumbai, Maharashtra</div></pre></div><div class=\"heading6 tapItem-gutter metadataContainer\"><div class=\"metadata salary-snippet-container\"><span aria-label=\"₹4,00,000 to ₹10,00,000 a year\" class=\"salary-snippet\">₹4,00,000 - ₹10,00,000 a year</span></div></div><div class=\"heading6 error-text tapItem-gutter\"></div></td></tr></tbody></table><table class=\"jobCardShelfContainer\" role=\"presentation\"><tbody><tr class=\"jobCardShelf\"><td class=\"shelfItem indeedApply\"><span class=\"iaIcon\"></span><span class=\"ialbl iaTextBlack\">Apply securely with Indeed Resume</span></td></tr><tr class=\"underShelfFooter\"><td><div class=\"heading6 tapItem-gutter result-footer\"><div class=\"job-snippet\"><ul style=\"list-style-type:circle;margin-top: 0px;margin-bottom: 0px;padding-left:20px;\">\n",
       " <li style=\"margin-bottom:0px;\">Capability to write crisp and clear code based on guidelines and best practices.</li>\n",
       " <li>You will ensure that these components and the overall application are robust…</li>\n",
       " </ul></div><span class=\"date\">1 day ago</span><span class=\"result-link-bar-separator\">·</span><button aria-expanded=\"false\" class=\"sl resultLink more_links_button\" type=\"button\">More...</button></div><div class=\"tab-container\"><div class=\"more-links-container result-tab\" role=\"presentation\"><div class=\"more_links\"><button class=\"close-button\" title=\"Close\" type=\"button\"></button><ul><li><span class=\"mat\">View all <a href=\"/Assurekit-Technologies-jobs\">Assurekit Technologies jobs</a> - <a href=\"/jobs-in-Mumbai,-Maharashtra\">Mumbai jobs</a></span></li><li><span class=\"mat\">Salary Search: <a href=\"/career/junior-front-end-developer/salaries/Mumbai--Maharashtra?campaignid=serp-more&amp;fromjk=7be95905d33479bb&amp;from=serp-more\">Junior Front End Developer salaries in Mumbai, Maharashtra</a></span></li></ul></div></div></div></td></tr></tbody></table><div aria-live=\"polite\"></div></div></div><div class=\"slider_sub_item\"></div></div></div>,\n",
       " <div class=\"slider_container\"><div class=\"slider_list\"><div class=\"slider_item\"><div class=\"job_seen_beacon\"><table cellpadding=\"0\" cellspacing=\"0\" class=\"jobCard_mainContent\" role=\"presentation\"><tbody><tr><td class=\"resultContent\"><div class=\"heading4 color-text-primary singleLineTitle tapItem-gutter\"><h2 class=\"jobTitle jobTitle-color-purple\"><span title=\"WEB DEVELOPER\">WEB DEVELOPER</span></h2></div><div class=\"heading6 company_location tapItem-gutter\"><pre><span class=\"companyName\"><a class=\"turnstileLink companyOverviewLink\" data-tn-element=\"companyName\" href=\"/cmp/Maxval-Technologies-Pvt.-Ltd\" rel=\"noopener\" target=\"_blank\">Maxval Technologies</a></span><span class=\"ratingsDisplay withRatingLink\"><a class=\"ratingLink\" data-tn-variant=\"cmplinktst2\" href=\"/cmp/Maxval-Technologies-Pvt.-Ltd/reviews\" rel=\"noopener\" target=\"_blank\" title=\"Maxval Technologies reviews\"><span aria-label=\"3.9 of stars rating\" class=\"ratingNumber\" role=\"img\"><span aria-hidden=\"true\">3.9</span><svg aria-hidden=\"true\" class=\"starIcon\" fill=\"none\" height=\"12\" viewbox=\"0 0 16 16\" width=\"12\" xmlns=\"http://www.w3.org/2000/svg\"><path d=\"M8 12.8709L12.4542 15.5593C12.7807 15.7563 13.1835 15.4636 13.0968 15.0922L11.9148 10.0254L15.8505 6.61581C16.1388 6.36608 15.9847 5.89257 15.6047 5.86033L10.423 5.42072L8.39696 0.640342C8.24839 0.289808 7.7516 0.289808 7.60303 0.640341L5.57696 5.42072L0.395297 5.86033C0.015274 5.89257 -0.13882 6.36608 0.149443 6.61581L4.0852 10.0254L2.90318 15.0922C2.81653 15.4636 3.21932 15.7563 3.54584 15.5593L8 12.8709Z\" fill=\"#767676\"></path></svg></span></a></span><div class=\"companyLocation\">Navi Mumbai, Maharashtra</div></pre></div><div class=\"heading6 error-text tapItem-gutter\"></div></td></tr></tbody></table><table class=\"jobCardShelfContainer\" role=\"presentation\"><tbody><tr class=\"jobCardShelf\"></tr><tr class=\"underShelfFooter\"><td><div class=\"heading6 tapItem-gutter result-footer\"><div class=\"job-snippet\"><ul style=\"list-style-type:circle;margin-top: 0px;margin-bottom: 0px;padding-left:20px;\">\n",
       " <li style=\"margin-bottom:0px;\">Proficient understanding of <b>web</b> markup, including HTML5 and CSS3.</li>\n",
       " <li style=\"margin-bottom:0px;\">Strong knowledge of <b>web</b> standards.</li>\n",
       " <li>Optimize application for maximum speed and scalability.</li>\n",
       " </ul></div><span class=\"date\">30+ days ago</span><span class=\"result-link-bar-separator\">·</span><button aria-expanded=\"false\" class=\"sl resultLink more_links_button\" type=\"button\">More...</button></div><div class=\"tab-container\"><div class=\"more-links-container result-tab\" role=\"presentation\"><div class=\"more_links\"><button class=\"close-button\" title=\"Close\" type=\"button\"></button><ul><li><span class=\"mat\">View all <a href=\"/Maxval-Technologies-jobs\">Maxval Technologies jobs</a> - <a href=\"/jobs-in-Navi-Mumbai,-Maharashtra\">Navi Mumbai jobs</a></span></li><li><span class=\"mat\">Salary Search: <a href=\"/career/web-developer/salaries/Navi-Mumbai--Maharashtra?campaignid=serp-more&amp;fromjk=0091ee3b331996db&amp;from=serp-more\">WEB DEVELOPER salaries in Navi Mumbai, Maharashtra</a></span></li><li><span class=\"mat\">See popular <a href=\"/cmp/Maxval-Technologies-Pvt.-Ltd/faq\">questions &amp; answers about Maxval Technologies</a></span></li></ul></div></div></div></td></tr></tbody></table><div aria-live=\"polite\"></div></div></div><div class=\"slider_sub_item\"></div></div></div>,\n",
       " <div class=\"slider_container\"><div class=\"slider_list\"><div class=\"slider_item\"><div class=\"job_seen_beacon\"><table cellpadding=\"0\" cellspacing=\"0\" class=\"jobCard_mainContent\" role=\"presentation\"><tbody><tr><td class=\"resultContent\"><div class=\"heading4 color-text-primary singleLineTitle tapItem-gutter\"><h2 class=\"jobTitle jobTitle-color-purple jobTitle-newJob\"><div class=\"new topLeft holisticNewBlue desktop\"><span class=\"label\">new</span></div><span title=\"Junior Software Developer (.NET)\">Junior Software Developer (.NET)</span></h2></div><div class=\"heading6 company_location tapItem-gutter\"><pre><span class=\"companyName\">Systenics Solutions</span><div class=\"companyLocation\">Navi Mumbai, Maharashtra<span class=\"remote-bullet\">•</span><span>Temporarily Remote</span></div></pre></div><div class=\"heading6 tapItem-gutter metadataContainer\"><div class=\"metadata salary-snippet-container\"><span aria-label=\"₹4,50,000 to ₹7,00,000 a year\" class=\"salary-snippet\">₹4,50,000 - ₹7,00,000 a year</span></div></div><div class=\"heading6 error-text tapItem-gutter\"></div></td></tr></tbody></table><table class=\"jobCardShelfContainer\" role=\"presentation\"><tbody><tr class=\"jobCardShelf\"><td class=\"shelfItem indeedApply\"><span class=\"iaIcon\"></span><span class=\"ialbl iaTextBlack\">Apply securely with Indeed Resume</span></td></tr><tr class=\"underShelfFooter\"><td><div class=\"heading6 tapItem-gutter result-footer\"><div class=\"job-snippet\"><ul style=\"list-style-type:circle;margin-top: 0px;margin-bottom: 0px;padding-left:20px;\">\n",
       " <li style=\"margin-bottom:0px;\">Minimum 2 years of experience in <b>web</b> application development using *ASP.</li>\n",
       " <li>Interviews will NOT be conducted if the candidate is using a mobile phone.*.</li>\n",
       " </ul></div><span class=\"date\">6 days ago</span><span class=\"result-link-bar-separator\">·</span><button aria-expanded=\"false\" class=\"sl resultLink more_links_button\" type=\"button\">More...</button></div><div class=\"tab-container\"><div class=\"more-links-container result-tab\" role=\"presentation\"><div class=\"more_links\"><button class=\"close-button\" title=\"Close\" type=\"button\"></button><ul><li><span class=\"mat\">View all <a href=\"/Systenics-Solutions-jobs\">Systenics Solutions jobs</a> - <a href=\"/jobs-in-Navi-Mumbai,-Maharashtra\">Navi Mumbai jobs</a></span></li><li><span class=\"mat\">Salary Search: <a href=\"/career/junior-software-engineer/salaries/Navi-Mumbai--Maharashtra?campaignid=serp-more&amp;fromjk=b9c1737795de6473&amp;from=serp-more\">Junior Software Developer (.NET) salaries in Navi Mumbai, Maharashtra</a></span></li></ul></div></div></div></td></tr></tbody></table><div aria-live=\"polite\"></div></div></div><div class=\"slider_sub_item\"></div></div></div>,\n",
       " <div class=\"slider_container\"><div class=\"slider_list\"><div class=\"slider_item\"><div class=\"job_seen_beacon\"><table cellpadding=\"0\" cellspacing=\"0\" class=\"jobCard_mainContent\" role=\"presentation\"><tbody><tr><td class=\"resultContent\"><div class=\"heading4 color-text-primary singleLineTitle tapItem-gutter\"><h2 class=\"jobTitle jobTitle-color-purple jobTitle-newJob\"><div class=\"new topLeft holisticNewBlue desktop\"><span class=\"label\">new</span></div><span title=\"UI Developer\">UI Developer</span></h2></div><div class=\"heading6 company_location tapItem-gutter\"><pre><span class=\"companyName\">Sperentes</span><div class=\"companyLocation\">Navi Mumbai, Maharashtra<span class=\"remote-bullet\">•</span><span>Temporarily Remote</span></div></pre></div><div class=\"heading6 tapItem-gutter metadataContainer\"><div class=\"metadata salary-snippet-container\"><span aria-label=\"₹15,000 to ₹20,000 a month\" class=\"salary-snippet\">₹15,000 - ₹20,000 a month</span></div></div><div class=\"heading6 error-text tapItem-gutter\"></div></td></tr></tbody></table><table class=\"jobCardShelfContainer\" role=\"presentation\"><tbody><tr class=\"jobCardShelf\"><td class=\"shelfItem indeedApply\"><span class=\"iaIcon\"></span><span class=\"ialbl iaTextBlack\">Apply securely with Indeed Resume</span></td></tr><tr class=\"underShelfFooter\"><td><div class=\"heading6 tapItem-gutter result-footer\"><div class=\"job-snippet\"><ul style=\"list-style-type:circle;margin-top: 0px;margin-bottom: 0px;padding-left:20px;\">\n",
       " <li style=\"margin-bottom:0px;\">Collaborate with back-end <b>web</b> <b>developers</b> and programmers to improve usability.</li>\n",
       " <li>Continued education and research into UI development trends and current design…</li>\n",
       " </ul></div><span class=\"date\">5 days ago</span><span class=\"result-link-bar-separator\">·</span><button aria-expanded=\"false\" class=\"sl resultLink more_links_button\" type=\"button\">More...</button></div><div class=\"tab-container\"><div class=\"more-links-container result-tab\" role=\"presentation\"><div class=\"more_links\"><button class=\"close-button\" title=\"Close\" type=\"button\"></button><ul><li><span class=\"mat\">View all <a href=\"/Sperentes-jobs\">Sperentes jobs</a> - <a href=\"/jobs-in-Navi-Mumbai,-Maharashtra\">Navi Mumbai jobs</a></span></li><li><span class=\"mat\">Salary Search: <a href=\"/career/front-end-developer/salaries/Navi-Mumbai--Maharashtra?campaignid=serp-more&amp;fromjk=885edb83c81d10d8&amp;from=serp-more\">UI Developer salaries in Navi Mumbai, Maharashtra</a></span></li></ul></div></div></div></td></tr></tbody></table><div aria-live=\"polite\"></div></div></div><div class=\"slider_sub_item\"></div></div></div>,\n",
       " <div class=\"slider_container\"><div class=\"slider_list\"><div class=\"slider_item\"><div class=\"job_seen_beacon\"><table cellpadding=\"0\" cellspacing=\"0\" class=\"jobCard_mainContent\" role=\"presentation\"><tbody><tr><td class=\"resultContent\"><div class=\"heading4 color-text-primary singleLineTitle tapItem-gutter\"><h2 class=\"jobTitle jobTitle-color-purple jobTitle-newJob\"><div class=\"new topLeft holisticNewBlue desktop\"><span class=\"label\">new</span></div><span title=\"Front End Developer\">Front End Developer</span></h2></div><div class=\"heading6 company_location tapItem-gutter\"><pre><span class=\"companyName\">Zedex Info Pvt Ltd</span><div class=\"companyLocation\">Mumbai, Maharashtra</div></pre></div><div class=\"heading6 tapItem-gutter metadataContainer\"><div class=\"metadata salary-snippet-container\"><span aria-label=\"₹15,000 a month\" class=\"salary-snippet\">₹15,000 a month</span></div></div><div class=\"heading6 error-text tapItem-gutter\"></div></td></tr></tbody></table><table class=\"jobCardShelfContainer\" role=\"presentation\"><tbody><tr class=\"jobCardShelf\"><td class=\"shelfItem indeedApply\"><span class=\"iaIcon\"></span><span class=\"ialbl iaTextBlack\">Apply securely with Indeed Resume</span></td></tr><tr class=\"underShelfFooter\"><td><div class=\"heading6 tapItem-gutter result-footer\"><div class=\"job-snippet\"><ul style=\"list-style-type:circle;margin-top: 0px;margin-bottom: 0px;padding-left:20px;\">\n",
       " <li>Understand the requirements and find an optimal way to build the site logically Integrate data from various back-end services and databases.</li>\n",
       " </ul></div><span class=\"date\">5 days ago</span><span class=\"result-link-bar-separator\">·</span><button aria-expanded=\"false\" class=\"sl resultLink more_links_button\" type=\"button\">More...</button></div><div class=\"tab-container\"><div class=\"more-links-container result-tab\" role=\"presentation\"><div class=\"more_links\"><button class=\"close-button\" title=\"Close\" type=\"button\"></button><ul><li><span class=\"mat\">View all <a href=\"/Zedex-Info-Pvt-Ltd-jobs\">Zedex Info Pvt Ltd jobs</a> - <a href=\"/jobs-in-Mumbai,-Maharashtra\">Mumbai jobs</a></span></li><li><span class=\"mat\">Salary Search: <a href=\"/career/front-end-developer/salaries/Mumbai--Maharashtra?campaignid=serp-more&amp;fromjk=4043f1562b7b2cc9&amp;from=serp-more\">Front End Developer salaries in Mumbai, Maharashtra</a></span></li></ul></div></div></div></td></tr></tbody></table><div aria-live=\"polite\"></div></div></div><div class=\"slider_sub_item\"></div></div></div>]"
      ]
     },
     "execution_count": 10,
     "metadata": {},
     "output_type": "execute_result"
    }
   ],
   "source": [
    "cards = soup.find_all('div','slider_container')\n",
    "cards"
   ]
  },
  {
   "cell_type": "code",
   "execution_count": 11,
   "metadata": {},
   "outputs": [
    {
     "data": {
      "text/plain": [
       "15"
      ]
     },
     "execution_count": 11,
     "metadata": {},
     "output_type": "execute_result"
    }
   ],
   "source": [
    "len(cards)"
   ]
  },
  {
   "cell_type": "markdown",
   "metadata": {},
   "source": [
    "# prototype the model with a single record"
   ]
  },
  {
   "cell_type": "code",
   "execution_count": 12,
   "metadata": {},
   "outputs": [],
   "source": [
    "card = cards[0]\n",
    "# card"
   ]
  },
  {
   "cell_type": "code",
   "execution_count": 13,
   "metadata": {},
   "outputs": [
    {
     "data": {
      "text/plain": [
       "<span class=\"label\">new</span>"
      ]
     },
     "execution_count": 13,
     "metadata": {},
     "output_type": "execute_result"
    }
   ],
   "source": [
    "card.div.span\n",
    "# card.attrs"
   ]
  },
  {
   "cell_type": "code",
   "execution_count": 14,
   "metadata": {},
   "outputs": [],
   "source": [
    "card['title'] = card.find('span').get_text()"
   ]
  },
  {
   "cell_type": "code",
   "execution_count": 15,
   "metadata": {},
   "outputs": [
    {
     "data": {
      "text/plain": [
       "'new'"
      ]
     },
     "execution_count": 15,
     "metadata": {},
     "output_type": "execute_result"
    }
   ],
   "source": [
    "card['title']"
   ]
  },
  {
   "cell_type": "code",
   "execution_count": 16,
   "metadata": {},
   "outputs": [
    {
     "data": {
      "text/plain": [
       "'new'"
      ]
     },
     "execution_count": 16,
     "metadata": {},
     "output_type": "execute_result"
    }
   ],
   "source": [
    "job_title = card['title']\n",
    "job_title"
   ]
  },
  {
   "cell_type": "code",
   "execution_count": 17,
   "metadata": {},
   "outputs": [
    {
     "data": {
      "text/plain": [
       "'DotSyndicate'"
      ]
     },
     "execution_count": 17,
     "metadata": {},
     "output_type": "execute_result"
    }
   ],
   "source": [
    "company = card.find('span','companyName').text\n",
    "company"
   ]
  },
  {
   "cell_type": "code",
   "execution_count": 18,
   "metadata": {},
   "outputs": [
    {
     "data": {
      "text/plain": [
       "'Mumbai, Maharashtra'"
      ]
     },
     "execution_count": 18,
     "metadata": {},
     "output_type": "execute_result"
    }
   ],
   "source": [
    "job_location= card.find('div','companyLocation').text\n",
    "job_location"
   ]
  },
  {
   "cell_type": "code",
   "execution_count": 26,
   "metadata": {},
   "outputs": [
    {
     "data": {
      "text/plain": [
       "'\\nRegular exposure to business stakeholders and executive management, as well as the authority and scope, to apply your expertise to many interesting technical…\\n'"
      ]
     },
     "execution_count": 26,
     "metadata": {},
     "output_type": "execute_result"
    }
   ],
   "source": [
    "job_summary = card.find('div','job-snippet').text\n",
    "job_summary.strip()\n",
    "job_summary"
   ]
  },
  {
   "cell_type": "code",
   "execution_count": 27,
   "metadata": {},
   "outputs": [
    {
     "data": {
      "text/plain": [
       "'7 days ago'"
      ]
     },
     "execution_count": 27,
     "metadata": {},
     "output_type": "execute_result"
    }
   ],
   "source": [
    "date_job = card.find('span','date').text\n",
    "date_job"
   ]
  },
  {
   "cell_type": "code",
   "execution_count": 28,
   "metadata": {},
   "outputs": [
    {
     "data": {
      "text/plain": [
       "'2021-10-04'"
      ]
     },
     "execution_count": 28,
     "metadata": {},
     "output_type": "execute_result"
    }
   ],
   "source": [
    "today = datetime.today().strftime('%Y-%m-%d')\n",
    "today"
   ]
  },
  {
   "cell_type": "code",
   "execution_count": 29,
   "metadata": {},
   "outputs": [
    {
     "data": {
      "text/plain": [
       "'₹35,000 a month'"
      ]
     },
     "execution_count": 29,
     "metadata": {},
     "output_type": "execute_result"
    }
   ],
   "source": [
    "salary = card.find('span','salary-snippet').text\n",
    "salary"
   ]
  },
  {
   "cell_type": "code",
   "execution_count": 30,
   "metadata": {},
   "outputs": [],
   "source": [
    "try:\n",
    "    salary = card.find('span','salary-snippet').text\n",
    "except AttributeError:\n",
    "    job_salary = ' '"
   ]
  },
  {
   "cell_type": "markdown",
   "metadata": {},
   "source": [
    "# Generalize the model with the function"
   ]
  },
  {
   "cell_type": "code",
   "execution_count": 31,
   "metadata": {},
   "outputs": [],
   "source": [
    "def get_record(card):\n",
    "    card.div.span\n",
    "    card['title'] = card.find('span').get_text()\n",
    "    job_title = card['title']\n",
    "    company = card.find('span','companyName').text\n",
    "    job_location= card.find('div','companyLocation').text\n",
    "    job_summary = card.find('div','job-snippet').text\n",
    "    date_job = card.find('span','date').text\n",
    "    today = datetime.today().strftime('%Y-%m-%d')\n",
    "    try:\n",
    "        job_salary = card.find('span','salary-snippet').text\n",
    "    except AttributeError:\n",
    "        job_salary = ' '\n",
    "    record = (job_title,company,job_location,job_summary,date_job,job_salary,today)\n",
    "    return record "
   ]
  },
  {
   "cell_type": "code",
   "execution_count": 32,
   "metadata": {},
   "outputs": [],
   "source": [
    "records = []\n",
    "\n",
    "for card in cards:\n",
    "    record = get_record(card)\n",
    "    records.append(record)"
   ]
  },
  {
   "cell_type": "code",
   "execution_count": 33,
   "metadata": {},
   "outputs": [
    {
     "data": {
      "text/plain": [
       "('new',\n",
       " 'Apogee Digitech Pvt Ltd',\n",
       " 'Navi Mumbai, Maharashtra',\n",
       " '\\nRegular exposure to business stakeholders and executive management, as well as the authority and scope, to apply your expertise to many interesting technical…\\n',\n",
       " '7 days ago',\n",
       " '₹35,000 a month',\n",
       " '2021-10-04')"
      ]
     },
     "execution_count": 33,
     "metadata": {},
     "output_type": "execute_result"
    }
   ],
   "source": [
    "records[0]"
   ]
  },
  {
   "cell_type": "code",
   "execution_count": 34,
   "metadata": {},
   "outputs": [
    {
     "data": {
      "text/plain": [
       "('PHP Web Developer',\n",
       " 'Beak Media',\n",
       " 'Mumbai, Maharashtra•Temporarily Remote',\n",
       " '\\nSalary: *Rs 35000 - Rs 50000 per month (finalized based on experience and skill sets).\\nFront end knowledge under HTML, CSS, React, Bootstrap, JavaScript, MySQL…\\n',\n",
       " '11 days ago',\n",
       " '₹35,000 - ₹50,000 a month',\n",
       " '2021-10-04')"
      ]
     },
     "execution_count": 34,
     "metadata": {},
     "output_type": "execute_result"
    }
   ],
   "source": [
    "records[1]"
   ]
  },
  {
   "cell_type": "markdown",
   "metadata": {},
   "source": [
    "# Getting the next page"
   ]
  },
  {
   "cell_type": "code",
   "execution_count": 35,
   "metadata": {},
   "outputs": [
    {
     "data": {
      "text/plain": [
       "'https://in.indeed.com/jobs?q=web+developer&l=Navi+Mumbai+Maharashtra&start=10'"
      ]
     },
     "execution_count": 35,
     "metadata": {},
     "output_type": "execute_result"
    }
   ],
   "source": [
    "url ='https://in.indeed.com' + soup.find('a',{'aria-label': 'Next'}).get('href')\n",
    "url"
   ]
  },
  {
   "cell_type": "code",
   "execution_count": 36,
   "metadata": {},
   "outputs": [],
   "source": [
    "i = 0 \n",
    "for i in range(0,3):\n",
    "    \n",
    "    try:\n",
    "        url ='https://in.indeed.com' + soup.find('a',{'aria-label': 'Next'}).get('href')\n",
    "    except AttributeError:\n",
    "        break\n",
    "        \n",
    "        response = requests.get(url)\n",
    "        soup = BeautifulSoup(response.text,'html.parser')\n",
    "        cards = soup.find_all('div','slider_container')\n",
    "        \n",
    "        for card in cards:\n",
    "            record = get_record(card)\n",
    "            records.append(record)"
   ]
  },
  {
   "cell_type": "code",
   "execution_count": 37,
   "metadata": {},
   "outputs": [
    {
     "data": {
      "text/plain": [
       "15"
      ]
     },
     "execution_count": 37,
     "metadata": {},
     "output_type": "execute_result"
    }
   ],
   "source": [
    "len(records)"
   ]
  },
  {
   "cell_type": "markdown",
   "metadata": {},
   "source": [
    "# Putting it all together"
   ]
  },
  {
   "cell_type": "code",
   "execution_count": 38,
   "metadata": {},
   "outputs": [],
   "source": [
    "import csv\n",
    "from datetime import datetime\n",
    "import re\n",
    "import requests\n",
    "from bs4 import BeautifulSoup\n",
    "\n",
    "def get_url(position,location):\n",
    "    url = \"https://in.indeed.com/jobs?q={}&l={}\"\n",
    "    url1 = url.format(position,location)\n",
    "    return url1\n",
    "\n",
    "def get_record(card):\n",
    "    card.div.span\n",
    "    card['title'] = card.find('span').get_text()\n",
    "    job_title = card['title']\n",
    "    company = card.find('span','companyName').text\n",
    "    job_location= card.find('div','companyLocation').text\n",
    "    job_summary = card.find('div','job-snippet').text\n",
    "    date_job = card.find('span','date').text\n",
    "    today = datetime.today().strftime('%Y-%m-%d')\n",
    "    try:\n",
    "        job_salary = card.find('span','salary-snippet').text\n",
    "    except AttributeError:\n",
    "        job_salary = ' '\n",
    "    record = (job_title,company,job_location,job_summary,date_job,job_salary,today)\n",
    "    return record\n",
    "\n",
    "def main(position,location):\n",
    "    records = []\n",
    "    url = get_url(position,location)\n",
    "    \n",
    "    i = 0 \n",
    "for i in range(0,3):\n",
    "    \n",
    "    try:\n",
    "        url ='https://in.indeed.com' + soup.find('a',{'aria-label': 'Next'}).get('href')\n",
    "    except AttributeError:\n",
    "        break\n",
    "        \n",
    "        response = requests.get(url)\n",
    "        soup = BeautifulSoup(response.text,'html.parser')\n",
    "        cards = soup.find_all('div','slider_container')\n",
    "        \n",
    "        for card in cards:\n",
    "            record = get_record(card)\n",
    "            records.append(record)\n",
    "    \n",
    "    with open('result.csv','w',newline='',encoding='utf-8') as f:\n",
    "        writer = csv.writer(f)\n",
    "        writer.writerow(['JobTitle','Company','Location','Summary','ExtractDate','Salary',\n",
    "                         'Today_Date'])\n",
    "        writer.writerows(records)"
   ]
  },
  {
   "cell_type": "code",
   "execution_count": 39,
   "metadata": {},
   "outputs": [],
   "source": [
    "main('web developer','Navi Mumbai, Maharashtra')"
   ]
  },
  {
   "cell_type": "code",
   "execution_count": 40,
   "metadata": {},
   "outputs": [],
   "source": [
    "import pandas as pd"
   ]
  },
  {
   "cell_type": "code",
   "execution_count": 41,
   "metadata": {},
   "outputs": [
    {
     "data": {
      "text/html": [
       "<div>\n",
       "<style scoped>\n",
       "    .dataframe tbody tr th:only-of-type {\n",
       "        vertical-align: middle;\n",
       "    }\n",
       "\n",
       "    .dataframe tbody tr th {\n",
       "        vertical-align: top;\n",
       "    }\n",
       "\n",
       "    .dataframe thead th {\n",
       "        text-align: right;\n",
       "    }\n",
       "</style>\n",
       "<table border=\"1\" class=\"dataframe\">\n",
       "  <thead>\n",
       "    <tr style=\"text-align: right;\">\n",
       "      <th></th>\n",
       "      <th>JobTitle</th>\n",
       "      <th>Company</th>\n",
       "      <th>Location</th>\n",
       "      <th>Summary</th>\n",
       "      <th>ExtractDate</th>\n",
       "      <th>Salary</th>\n",
       "      <th>Today_Date</th>\n",
       "    </tr>\n",
       "  </thead>\n",
       "  <tbody>\n",
       "    <tr>\n",
       "      <th>0</th>\n",
       "      <td>new</td>\n",
       "      <td>Apogee Digitech Pvt Ltd</td>\n",
       "      <td>Navi Mumbai, Maharashtra</td>\n",
       "      <td>\\nRegular exposure to business stakeholders an...</td>\n",
       "      <td>7 days ago</td>\n",
       "      <td>₹35,000 a month</td>\n",
       "      <td>2021-10-04</td>\n",
       "    </tr>\n",
       "    <tr>\n",
       "      <th>1</th>\n",
       "      <td>PHP Web Developer</td>\n",
       "      <td>Beak Media</td>\n",
       "      <td>Mumbai, Maharashtra•Temporarily Remote</td>\n",
       "      <td>\\nSalary: *Rs 35000 - Rs 50000 per month (fina...</td>\n",
       "      <td>11 days ago</td>\n",
       "      <td>₹35,000 - ₹50,000 a month</td>\n",
       "      <td>2021-10-04</td>\n",
       "    </tr>\n",
       "    <tr>\n",
       "      <th>2</th>\n",
       "      <td>Web Developer</td>\n",
       "      <td>Makebot Robotic Solutions Pvt. Ltd</td>\n",
       "      <td>Navi Mumbai, Maharashtra</td>\n",
       "      <td>\\nWorking closely with web designers and progr...</td>\n",
       "      <td>18 days ago</td>\n",
       "      <td>₹20,000 - ₹25,000 a month</td>\n",
       "      <td>2021-10-04</td>\n",
       "    </tr>\n",
       "    <tr>\n",
       "      <th>3</th>\n",
       "      <td>new</td>\n",
       "      <td>GIT Technologies</td>\n",
       "      <td>Vashi, Navi Mumbai, Maharashtra</td>\n",
       "      <td>\\nSkills At least 1 - 2 years of experience us...</td>\n",
       "      <td>5 days ago</td>\n",
       "      <td></td>\n",
       "      <td>2021-10-04</td>\n",
       "    </tr>\n",
       "    <tr>\n",
       "      <th>4</th>\n",
       "      <td>Web Developer</td>\n",
       "      <td>PTS Systems &amp; Solutions Pvt Ltd</td>\n",
       "      <td>Navi Mumbai, Maharashtra</td>\n",
       "      <td>\\nWriting well designed, testable, efficient c...</td>\n",
       "      <td>21 days ago</td>\n",
       "      <td>₹15,000 - ₹20,000 a month</td>\n",
       "      <td>2021-10-04</td>\n",
       "    </tr>\n",
       "    <tr>\n",
       "      <th>5</th>\n",
       "      <td>new</td>\n",
       "      <td>ARCITECH</td>\n",
       "      <td>Mumbai, Maharashtra</td>\n",
       "      <td>\\nAssist in troubleshooting issues on web-base...</td>\n",
       "      <td>4 days ago</td>\n",
       "      <td>₹3,000 a month</td>\n",
       "      <td>2021-10-04</td>\n",
       "    </tr>\n",
       "    <tr>\n",
       "      <th>6</th>\n",
       "      <td>WEB DEVELOPER</td>\n",
       "      <td>Maxval Technologies</td>\n",
       "      <td>CBD Belapur, Navi Mumbai, Maharashtra</td>\n",
       "      <td>\\nProficient understanding of web markup, incl...</td>\n",
       "      <td>30+ days ago</td>\n",
       "      <td></td>\n",
       "      <td>2021-10-04</td>\n",
       "    </tr>\n",
       "    <tr>\n",
       "      <th>7</th>\n",
       "      <td>Front-End Web Developer</td>\n",
       "      <td>TIC</td>\n",
       "      <td>Navi Mumbai, Maharashtra</td>\n",
       "      <td>\\nProficient understanding of web markup, incl...</td>\n",
       "      <td>30+ days ago</td>\n",
       "      <td></td>\n",
       "      <td>2021-10-04</td>\n",
       "    </tr>\n",
       "    <tr>\n",
       "      <th>8</th>\n",
       "      <td>Web Developer</td>\n",
       "      <td>Nora Tecnoanalytics</td>\n",
       "      <td>Navi Mumbai, Maharashtra</td>\n",
       "      <td>\\nJob Type: Developers with knowledge of , HTM...</td>\n",
       "      <td>30 days ago</td>\n",
       "      <td>₹15,000 - ₹20,000 a month</td>\n",
       "      <td>2021-10-04</td>\n",
       "    </tr>\n",
       "    <tr>\n",
       "      <th>9</th>\n",
       "      <td>HTML Developer</td>\n",
       "      <td>G-ORDINATEUR PVT LTD</td>\n",
       "      <td>Navi Mumbai, Maharashtra•Temporarily Remote</td>\n",
       "      <td>\\nExperience building large consumer web appli...</td>\n",
       "      <td>13 days ago</td>\n",
       "      <td>₹1,20,000 - ₹2,40,000 a year</td>\n",
       "      <td>2021-10-04</td>\n",
       "    </tr>\n",
       "    <tr>\n",
       "      <th>10</th>\n",
       "      <td>Web Developer</td>\n",
       "      <td>GAMSYS</td>\n",
       "      <td>CBD Belapur, Navi Mumbai, Maharashtra</td>\n",
       "      <td>\\nDeveloping mobile Friendly and responsive we...</td>\n",
       "      <td>30+ days ago</td>\n",
       "      <td></td>\n",
       "      <td>2021-10-04</td>\n",
       "    </tr>\n",
       "    <tr>\n",
       "      <th>11</th>\n",
       "      <td>Web Designer &amp; Developer</td>\n",
       "      <td>GIT Technologies Private Limited</td>\n",
       "      <td>Navi Mumbai, Maharashtra</td>\n",
       "      <td>\\nWeb designing: 2 years (Required).\\nRegular ...</td>\n",
       "      <td>30+ days ago</td>\n",
       "      <td>₹10,000 - ₹25,000 a month</td>\n",
       "      <td>2021-10-04</td>\n",
       "    </tr>\n",
       "    <tr>\n",
       "      <th>12</th>\n",
       "      <td>Web Developer</td>\n",
       "      <td>The Marketing Nerdz</td>\n",
       "      <td>Navi Mumbai, Maharashtra+1 location</td>\n",
       "      <td>\\nYou must have mastery in creating a website ...</td>\n",
       "      <td>30 days ago</td>\n",
       "      <td>₹8,000 - ₹15,000 a month</td>\n",
       "      <td>2021-10-04</td>\n",
       "    </tr>\n",
       "    <tr>\n",
       "      <th>13</th>\n",
       "      <td>new</td>\n",
       "      <td>Upstox</td>\n",
       "      <td>Mumbai, Maharashtra</td>\n",
       "      <td>\\nWrite well designed, testable, efficient cod...</td>\n",
       "      <td>4 days ago</td>\n",
       "      <td></td>\n",
       "      <td>2021-10-04</td>\n",
       "    </tr>\n",
       "    <tr>\n",
       "      <th>14</th>\n",
       "      <td>new</td>\n",
       "      <td>Trigent Software Ltd</td>\n",
       "      <td>Mumbai, Maharashtra•Temporarily Remote</td>\n",
       "      <td>\\nAny graduate, Should have good verbal and wr...</td>\n",
       "      <td>7 days ago</td>\n",
       "      <td>₹25,000 - ₹30,000 a month</td>\n",
       "      <td>2021-10-04</td>\n",
       "    </tr>\n",
       "  </tbody>\n",
       "</table>\n",
       "</div>"
      ],
      "text/plain": [
       "                    JobTitle                             Company  \\\n",
       "0                        new             Apogee Digitech Pvt Ltd   \n",
       "1          PHP Web Developer                          Beak Media   \n",
       "2              Web Developer  Makebot Robotic Solutions Pvt. Ltd   \n",
       "3                        new                    GIT Technologies   \n",
       "4              Web Developer     PTS Systems & Solutions Pvt Ltd   \n",
       "5                        new                            ARCITECH   \n",
       "6              WEB DEVELOPER                 Maxval Technologies   \n",
       "7    Front-End Web Developer                                 TIC   \n",
       "8              Web Developer                 Nora Tecnoanalytics   \n",
       "9             HTML Developer                G-ORDINATEUR PVT LTD   \n",
       "10             Web Developer                              GAMSYS   \n",
       "11  Web Designer & Developer    GIT Technologies Private Limited   \n",
       "12             Web Developer                 The Marketing Nerdz   \n",
       "13                       new                              Upstox   \n",
       "14                       new                Trigent Software Ltd   \n",
       "\n",
       "                                       Location  \\\n",
       "0                      Navi Mumbai, Maharashtra   \n",
       "1        Mumbai, Maharashtra•Temporarily Remote   \n",
       "2                      Navi Mumbai, Maharashtra   \n",
       "3               Vashi, Navi Mumbai, Maharashtra   \n",
       "4                      Navi Mumbai, Maharashtra   \n",
       "5                           Mumbai, Maharashtra   \n",
       "6         CBD Belapur, Navi Mumbai, Maharashtra   \n",
       "7                      Navi Mumbai, Maharashtra   \n",
       "8                      Navi Mumbai, Maharashtra   \n",
       "9   Navi Mumbai, Maharashtra•Temporarily Remote   \n",
       "10        CBD Belapur, Navi Mumbai, Maharashtra   \n",
       "11                     Navi Mumbai, Maharashtra   \n",
       "12          Navi Mumbai, Maharashtra+1 location   \n",
       "13                          Mumbai, Maharashtra   \n",
       "14       Mumbai, Maharashtra•Temporarily Remote   \n",
       "\n",
       "                                              Summary   ExtractDate  \\\n",
       "0   \\nRegular exposure to business stakeholders an...    7 days ago   \n",
       "1   \\nSalary: *Rs 35000 - Rs 50000 per month (fina...   11 days ago   \n",
       "2   \\nWorking closely with web designers and progr...   18 days ago   \n",
       "3   \\nSkills At least 1 - 2 years of experience us...    5 days ago   \n",
       "4   \\nWriting well designed, testable, efficient c...   21 days ago   \n",
       "5   \\nAssist in troubleshooting issues on web-base...    4 days ago   \n",
       "6   \\nProficient understanding of web markup, incl...  30+ days ago   \n",
       "7   \\nProficient understanding of web markup, incl...  30+ days ago   \n",
       "8   \\nJob Type: Developers with knowledge of , HTM...   30 days ago   \n",
       "9   \\nExperience building large consumer web appli...   13 days ago   \n",
       "10  \\nDeveloping mobile Friendly and responsive we...  30+ days ago   \n",
       "11  \\nWeb designing: 2 years (Required).\\nRegular ...  30+ days ago   \n",
       "12  \\nYou must have mastery in creating a website ...   30 days ago   \n",
       "13  \\nWrite well designed, testable, efficient cod...    4 days ago   \n",
       "14  \\nAny graduate, Should have good verbal and wr...    7 days ago   \n",
       "\n",
       "                          Salary  Today_Date  \n",
       "0                ₹35,000 a month  2021-10-04  \n",
       "1      ₹35,000 - ₹50,000 a month  2021-10-04  \n",
       "2      ₹20,000 - ₹25,000 a month  2021-10-04  \n",
       "3                                 2021-10-04  \n",
       "4      ₹15,000 - ₹20,000 a month  2021-10-04  \n",
       "5                 ₹3,000 a month  2021-10-04  \n",
       "6                                 2021-10-04  \n",
       "7                                 2021-10-04  \n",
       "8      ₹15,000 - ₹20,000 a month  2021-10-04  \n",
       "9   ₹1,20,000 - ₹2,40,000 a year  2021-10-04  \n",
       "10                                2021-10-04  \n",
       "11     ₹10,000 - ₹25,000 a month  2021-10-04  \n",
       "12      ₹8,000 - ₹15,000 a month  2021-10-04  \n",
       "13                                2021-10-04  \n",
       "14     ₹25,000 - ₹30,000 a month  2021-10-04  "
      ]
     },
     "execution_count": 41,
     "metadata": {},
     "output_type": "execute_result"
    }
   ],
   "source": [
    "address = 'result.csv'\n",
    "data = pd.read_csv(address)\n",
    "data"
   ]
  },
  {
   "cell_type": "code",
   "execution_count": 100,
   "metadata": {},
   "outputs": [],
   "source": [
    "# data['JobTitle']"
   ]
  },
  {
   "cell_type": "code",
   "execution_count": 99,
   "metadata": {},
   "outputs": [],
   "source": [
    "# s_obj = str(data)\n",
    "# s_obj"
   ]
  },
  {
   "cell_type": "code",
   "execution_count": 98,
   "metadata": {},
   "outputs": [],
   "source": [
    "# type(s_obj)"
   ]
  },
  {
   "cell_type": "code",
   "execution_count": 97,
   "metadata": {},
   "outputs": [],
   "source": [
    "# x = re.sub('new','Web developer',s_obj)\n",
    "# print(x)"
   ]
  },
  {
   "cell_type": "code",
   "execution_count": 101,
   "metadata": {},
   "outputs": [],
   "source": [
    "# data"
   ]
  },
  {
   "cell_type": "code",
   "execution_count": 102,
   "metadata": {},
   "outputs": [],
   "source": [
    "# len(data['JobTitle'])"
   ]
  },
  {
   "cell_type": "code",
   "execution_count": 103,
   "metadata": {},
   "outputs": [],
   "source": [
    "# data['JobTitle']"
   ]
  },
  {
   "cell_type": "code",
   "execution_count": 139,
   "metadata": {},
   "outputs": [],
   "source": [
    "# import numpy as np"
   ]
  },
  {
   "cell_type": "code",
   "execution_count": 140,
   "metadata": {},
   "outputs": [],
   "source": [
    "# df = np.array(data)\n",
    "# df\n",
    "# type(df)"
   ]
  },
  {
   "cell_type": "code",
   "execution_count": 141,
   "metadata": {},
   "outputs": [],
   "source": [
    "# df[0]"
   ]
  },
  {
   "cell_type": "code",
   "execution_count": 142,
   "metadata": {},
   "outputs": [],
   "source": [
    "# for i in df:\n",
    "#     print(type(i))\n",
    "#     print(i)"
   ]
  },
  {
   "cell_type": "code",
   "execution_count": 33,
   "metadata": {},
   "outputs": [],
   "source": [
    "# for link in soup.find_all('a'):\n",
    "#     print(link.get('href'))"
   ]
  },
  {
   "cell_type": "code",
   "execution_count": null,
   "metadata": {},
   "outputs": [],
   "source": []
  }
 ],
 "metadata": {
  "kernelspec": {
   "display_name": "Python 3",
   "language": "python",
   "name": "python3"
  },
  "language_info": {
   "codemirror_mode": {
    "name": "ipython",
    "version": 3
   },
   "file_extension": ".py",
   "mimetype": "text/x-python",
   "name": "python",
   "nbconvert_exporter": "python",
   "pygments_lexer": "ipython3",
   "version": "3.8.2"
  }
 },
 "nbformat": 4,
 "nbformat_minor": 4
}
